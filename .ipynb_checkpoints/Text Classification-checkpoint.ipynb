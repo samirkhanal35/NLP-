{
 "cells": [
  {
   "cell_type": "code",
   "execution_count": 1,
   "id": "3422e05b",
   "metadata": {},
   "outputs": [],
   "source": [
    "import nltk\n",
    "from nltk.corpus import movie_reviews"
   ]
  },
  {
   "cell_type": "code",
   "execution_count": 2,
   "id": "1302f6bf",
   "metadata": {},
   "outputs": [
    {
     "name": "stderr",
     "output_type": "stream",
     "text": [
      "[nltk_data] Downloading package movie_reviews to\n",
      "[nltk_data]     C:\\Users\\DELL\\AppData\\Roaming\\nltk_data...\n",
      "[nltk_data]   Package movie_reviews is already up-to-date!\n"
     ]
    },
    {
     "data": {
      "text/plain": [
       "True"
      ]
     },
     "execution_count": 2,
     "metadata": {},
     "output_type": "execute_result"
    }
   ],
   "source": [
    "nltk.download('movie_reviews')"
   ]
  },
  {
   "cell_type": "code",
   "execution_count": 3,
   "id": "763497fd",
   "metadata": {},
   "outputs": [
    {
     "data": {
      "text/plain": [
       "1583820"
      ]
     },
     "execution_count": 3,
     "metadata": {},
     "output_type": "execute_result"
    }
   ],
   "source": [
    "len(movie_reviews.words())"
   ]
  },
  {
   "cell_type": "code",
   "execution_count": 4,
   "id": "87a0a716",
   "metadata": {},
   "outputs": [
    {
     "data": {
      "text/plain": [
       "['neg', 'pos']"
      ]
     },
     "execution_count": 4,
     "metadata": {},
     "output_type": "execute_result"
    }
   ],
   "source": [
    "movie_reviews.categories()"
   ]
  },
  {
   "cell_type": "code",
   "execution_count": 5,
   "id": "1f70fb4d",
   "metadata": {},
   "outputs": [
    {
     "data": {
      "text/plain": [
       "['neg/cv000_29416.txt',\n",
       " 'neg/cv001_19502.txt',\n",
       " 'neg/cv002_17424.txt',\n",
       " 'neg/cv003_12683.txt',\n",
       " 'neg/cv004_12641.txt']"
      ]
     },
     "execution_count": 5,
     "metadata": {},
     "output_type": "execute_result"
    }
   ],
   "source": [
    "movie_reviews.fileids()[:5]"
   ]
  },
  {
   "cell_type": "code",
   "execution_count": 6,
   "id": "51116140",
   "metadata": {},
   "outputs": [],
   "source": [
    "text = \" \".join(movie_reviews.words())\n",
    "import string\n",
    "text_filtered = text.translate(str.maketrans('','', string.punctuation))"
   ]
  },
  {
   "cell_type": "code",
   "execution_count": 7,
   "id": "9448dfba",
   "metadata": {},
   "outputs": [
    {
     "data": {
      "text/plain": [
       "'plot  two teen couples go to a church party  drink and then drive  they get into an accident  one of the guys dies  but his girlfriend continues to see him in her life  and has nightmares  what  s the deal  watch the movie and  sorta  find out    critique  a mind  fuck movie for the teen generation that touches on a very cool idea  but presents it in a very bad package  which is what makes this review an even harder one to write  since i generally applaud films which attempt to break the mold  mess with your head and such  lost highway  memento   but there are good and bad ways of making all types of films  and these folks just didn  t snag this one correctly  they seem to have taken this pretty neat concept  but executed it terribly  so what are the problems with the movie  well  its main problem is that it  s simply too jumbled  it starts off  normal  but then downshifts into this  fantasy  world in which you  as an audience member  have no idea what  s going on  there are dreams  the'"
      ]
     },
     "execution_count": 7,
     "metadata": {},
     "output_type": "execute_result"
    }
   ],
   "source": [
    "text_filtered[:1001]"
   ]
  },
  {
   "cell_type": "code",
   "execution_count": 8,
   "id": "9ef3ab07",
   "metadata": {},
   "outputs": [],
   "source": [
    "from nltk import word_tokenize\n",
    "from nltk.corpus import stopwords\n",
    "\n",
    "stopwords = stopwords.words('english')\n",
    "tokens = word_tokenize(text_filtered)\n",
    "word_filtered = [w.lower() for w in tokens if w not in stopwords]"
   ]
  },
  {
   "cell_type": "code",
   "execution_count": 9,
   "id": "511e828f",
   "metadata": {},
   "outputs": [
    {
     "data": {
      "text/plain": [
       "['plot',\n",
       " 'two',\n",
       " 'teen',\n",
       " 'couples',\n",
       " 'go',\n",
       " 'church',\n",
       " 'party',\n",
       " 'drink',\n",
       " 'drive',\n",
       " 'get']"
      ]
     },
     "execution_count": 9,
     "metadata": {},
     "output_type": "execute_result"
    }
   ],
   "source": [
    "word_filtered[:10]"
   ]
  },
  {
   "cell_type": "code",
   "execution_count": 10,
   "id": "83bd42d3",
   "metadata": {},
   "outputs": [],
   "source": [
    "counter_dict = nltk.FreqDist(word_filtered)"
   ]
  },
  {
   "cell_type": "code",
   "execution_count": 11,
   "id": "404e5084",
   "metadata": {},
   "outputs": [
    {
     "name": "stdout",
     "output_type": "stream",
     "text": [
      "[('film', 9519), ('one', 5853), ('movie', 5774), ('like', 3690), ('even', 2565), ('good', 2411), ('time', 2411), ('story', 2170), ('would', 2110), ('much', 2050), ('character', 2020), ('also', 1967), ('get', 1949), ('two', 1912), ('well', 1906)]\n"
     ]
    }
   ],
   "source": [
    "print(counter_dict.most_common(15))"
   ]
  },
  {
   "cell_type": "code",
   "execution_count": 12,
   "id": "1c9f1eaa",
   "metadata": {},
   "outputs": [],
   "source": [
    "docs = [(list(movie_reviews.words(fileid)), category)\n",
    "       for category in movie_reviews.categories()\n",
    "       for fileid in movie_reviews.fileids(category)]"
   ]
  },
  {
   "cell_type": "code",
   "execution_count": 13,
   "id": "b57b2c8c",
   "metadata": {},
   "outputs": [
    {
     "name": "stdout",
     "output_type": "stream",
     "text": [
      "(['the', 'happy', 'bastard', \"'\", 's', 'quick', 'movie', 'review', 'damn', 'that', 'y2k', 'bug', '.', 'it', \"'\", 's', 'got', 'a', 'head', 'start', 'in', 'this', 'movie', 'starring', 'jamie', 'lee', 'curtis', 'and', 'another', 'baldwin', 'brother', '(', 'william', 'this', 'time', ')', 'in', 'a', 'story', 'regarding', 'a', 'crew', 'of', 'a', 'tugboat', 'that', 'comes', 'across', 'a', 'deserted', 'russian', 'tech', 'ship', 'that', 'has', 'a', 'strangeness', 'to', 'it', 'when', 'they', 'kick', 'the', 'power', 'back', 'on', '.', 'little', 'do', 'they', 'know', 'the', 'power', 'within', '.', '.', '.', 'going', 'for', 'the', 'gore', 'and', 'bringing', 'on', 'a', 'few', 'action', 'sequences', 'here', 'and', 'there', ',', 'virus', 'still', 'feels', 'very', 'empty', ',', 'like', 'a', 'movie', 'going', 'for', 'all', 'flash', 'and', 'no', 'substance', '.', 'we', 'don', \"'\", 't', 'know', 'why', 'the', 'crew', 'was', 'really', 'out', 'in', 'the', 'middle', 'of', 'nowhere', ',', 'we', 'don', \"'\", 't', 'know', 'the', 'origin', 'of', 'what', 'took', 'over', 'the', 'ship', '(', 'just', 'that', 'a', 'big', 'pink', 'flashy', 'thing', 'hit', 'the', 'mir', ')', ',', 'and', ',', 'of', 'course', ',', 'we', 'don', \"'\", 't', 'know', 'why', 'donald', 'sutherland', 'is', 'stumbling', 'around', 'drunkenly', 'throughout', '.', 'here', ',', 'it', \"'\", 's', 'just', '\"', 'hey', ',', 'let', \"'\", 's', 'chase', 'these', 'people', 'around', 'with', 'some', 'robots', '\"', '.', 'the', 'acting', 'is', 'below', 'average', ',', 'even', 'from', 'the', 'likes', 'of', 'curtis', '.', 'you', \"'\", 're', 'more', 'likely', 'to', 'get', 'a', 'kick', 'out', 'of', 'her', 'work', 'in', 'halloween', 'h20', '.', 'sutherland', 'is', 'wasted', 'and', 'baldwin', ',', 'well', ',', 'he', \"'\", 's', 'acting', 'like', 'a', 'baldwin', ',', 'of', 'course', '.', 'the', 'real', 'star', 'here', 'are', 'stan', 'winston', \"'\", 's', 'robot', 'design', ',', 'some', 'schnazzy', 'cgi', ',', 'and', 'the', 'occasional', 'good', 'gore', 'shot', ',', 'like', 'picking', 'into', 'someone', \"'\", 's', 'brain', '.', 'so', ',', 'if', 'robots', 'and', 'body', 'parts', 'really', 'turn', 'you', 'on', ',', 'here', \"'\", 's', 'your', 'movie', '.', 'otherwise', ',', 'it', \"'\", 's', 'pretty', 'much', 'a', 'sunken', 'ship', 'of', 'a', 'movie', '.'], 'neg')\n"
     ]
    }
   ],
   "source": [
    "print(docs[1])"
   ]
  },
  {
   "cell_type": "code",
   "execution_count": 14,
   "id": "cb1d9c1e",
   "metadata": {},
   "outputs": [
    {
     "name": "stdout",
     "output_type": "stream",
     "text": [
      "(['plot', ':', 'two', 'teen', 'couples', 'go', 'to', 'a', 'church', 'party', ',', 'drink', 'and', 'then', 'drive', '.', 'they', 'get', 'into', 'an', 'accident', '.', 'one', 'of', 'the', 'guys', 'dies', ',', 'but', 'his', 'girlfriend', 'continues', 'to', 'see', 'him', 'in', 'her', 'life', ',', 'and', 'has', 'nightmares', '.', 'what', \"'\", 's', 'the', 'deal', '?', 'watch', 'the', 'movie', 'and', '\"', 'sorta', '\"', 'find', 'out', '.', '.', '.', 'critique', ':', 'a', 'mind', '-', 'fuck', 'movie', 'for', 'the', 'teen', 'generation', 'that', 'touches', 'on', 'a', 'very', 'cool', 'idea', ',', 'but', 'presents', 'it', 'in', 'a', 'very', 'bad', 'package', '.', 'which', 'is', 'what', 'makes', 'this', 'review', 'an', 'even', 'harder', 'one', 'to', 'write', ',', 'since', 'i', 'generally', 'applaud', 'films', 'which', 'attempt', 'to', 'break', 'the', 'mold', ',', 'mess', 'with', 'your', 'head', 'and', 'such', '(', 'lost', 'highway', '&', 'memento', ')', ',', 'but', 'there', 'are', 'good', 'and', 'bad', 'ways', 'of', 'making', 'all', 'types', 'of', 'films', ',', 'and', 'these', 'folks', 'just', 'didn', \"'\", 't', 'snag', 'this', 'one', 'correctly', '.', 'they', 'seem', 'to', 'have', 'taken', 'this', 'pretty', 'neat', 'concept', ',', 'but', 'executed', 'it', 'terribly', '.', 'so', 'what', 'are', 'the', 'problems', 'with', 'the', 'movie', '?', 'well', ',', 'its', 'main', 'problem', 'is', 'that', 'it', \"'\", 's', 'simply', 'too', 'jumbled', '.', 'it', 'starts', 'off', '\"', 'normal', '\"', 'but', 'then', 'downshifts', 'into', 'this', '\"', 'fantasy', '\"', 'world', 'in', 'which', 'you', ',', 'as', 'an', 'audience', 'member', ',', 'have', 'no', 'idea', 'what', \"'\", 's', 'going', 'on', '.', 'there', 'are', 'dreams', ',', 'there', 'are', 'characters', 'coming', 'back', 'from', 'the', 'dead', ',', 'there', 'are', 'others', 'who', 'look', 'like', 'the', 'dead', ',', 'there', 'are', 'strange', 'apparitions', ',', 'there', 'are', 'disappearances', ',', 'there', 'are', 'a', 'looooot', 'of', 'chase', 'scenes', ',', 'there', 'are', 'tons', 'of', 'weird', 'things', 'that', 'happen', ',', 'and', 'most', 'of', 'it', 'is', 'simply', 'not', 'explained', '.', 'now', 'i', 'personally', 'don', \"'\", 't', 'mind', 'trying', 'to', 'unravel', 'a', 'film', 'every', 'now', 'and', 'then', ',', 'but', 'when', 'all', 'it', 'does', 'is', 'give', 'me', 'the', 'same', 'clue', 'over', 'and', 'over', 'again', ',', 'i', 'get', 'kind', 'of', 'fed', 'up', 'after', 'a', 'while', ',', 'which', 'is', 'this', 'film', \"'\", 's', 'biggest', 'problem', '.', 'it', \"'\", 's', 'obviously', 'got', 'this', 'big', 'secret', 'to', 'hide', ',', 'but', 'it', 'seems', 'to', 'want', 'to', 'hide', 'it', 'completely', 'until', 'its', 'final', 'five', 'minutes', '.', 'and', 'do', 'they', 'make', 'things', 'entertaining', ',', 'thrilling', 'or', 'even', 'engaging', ',', 'in', 'the', 'meantime', '?', 'not', 'really', '.', 'the', 'sad', 'part', 'is', 'that', 'the', 'arrow', 'and', 'i', 'both', 'dig', 'on', 'flicks', 'like', 'this', ',', 'so', 'we', 'actually', 'figured', 'most', 'of', 'it', 'out', 'by', 'the', 'half', '-', 'way', 'point', ',', 'so', 'all', 'of', 'the', 'strangeness', 'after', 'that', 'did', 'start', 'to', 'make', 'a', 'little', 'bit', 'of', 'sense', ',', 'but', 'it', 'still', 'didn', \"'\", 't', 'the', 'make', 'the', 'film', 'all', 'that', 'more', 'entertaining', '.', 'i', 'guess', 'the', 'bottom', 'line', 'with', 'movies', 'like', 'this', 'is', 'that', 'you', 'should', 'always', 'make', 'sure', 'that', 'the', 'audience', 'is', '\"', 'into', 'it', '\"', 'even', 'before', 'they', 'are', 'given', 'the', 'secret', 'password', 'to', 'enter', 'your', 'world', 'of', 'understanding', '.', 'i', 'mean', ',', 'showing', 'melissa', 'sagemiller', 'running', 'away', 'from', 'visions', 'for', 'about', '20', 'minutes', 'throughout', 'the', 'movie', 'is', 'just', 'plain', 'lazy', '!', '!', 'okay', ',', 'we', 'get', 'it', '.', '.', '.', 'there', 'are', 'people', 'chasing', 'her', 'and', 'we', 'don', \"'\", 't', 'know', 'who', 'they', 'are', '.', 'do', 'we', 'really', 'need', 'to', 'see', 'it', 'over', 'and', 'over', 'again', '?', 'how', 'about', 'giving', 'us', 'different', 'scenes', 'offering', 'further', 'insight', 'into', 'all', 'of', 'the', 'strangeness', 'going', 'down', 'in', 'the', 'movie', '?', 'apparently', ',', 'the', 'studio', 'took', 'this', 'film', 'away', 'from', 'its', 'director', 'and', 'chopped', 'it', 'up', 'themselves', ',', 'and', 'it', 'shows', '.', 'there', 'might', \"'\", 've', 'been', 'a', 'pretty', 'decent', 'teen', 'mind', '-', 'fuck', 'movie', 'in', 'here', 'somewhere', ',', 'but', 'i', 'guess', '\"', 'the', 'suits', '\"', 'decided', 'that', 'turning', 'it', 'into', 'a', 'music', 'video', 'with', 'little', 'edge', ',', 'would', 'make', 'more', 'sense', '.', 'the', 'actors', 'are', 'pretty', 'good', 'for', 'the', 'most', 'part', ',', 'although', 'wes', 'bentley', 'just', 'seemed', 'to', 'be', 'playing', 'the', 'exact', 'same', 'character', 'that', 'he', 'did', 'in', 'american', 'beauty', ',', 'only', 'in', 'a', 'new', 'neighborhood', '.', 'but', 'my', 'biggest', 'kudos', 'go', 'out', 'to', 'sagemiller', ',', 'who', 'holds', 'her', 'own', 'throughout', 'the', 'entire', 'film', ',', 'and', 'actually', 'has', 'you', 'feeling', 'her', 'character', \"'\", 's', 'unraveling', '.', 'overall', ',', 'the', 'film', 'doesn', \"'\", 't', 'stick', 'because', 'it', 'doesn', \"'\", 't', 'entertain', ',', 'it', \"'\", 's', 'confusing', ',', 'it', 'rarely', 'excites', 'and', 'it', 'feels', 'pretty', 'redundant', 'for', 'most', 'of', 'its', 'runtime', ',', 'despite', 'a', 'pretty', 'cool', 'ending', 'and', 'explanation', 'to', 'all', 'of', 'the', 'craziness', 'that', 'came', 'before', 'it', '.', 'oh', ',', 'and', 'by', 'the', 'way', ',', 'this', 'is', 'not', 'a', 'horror', 'or', 'teen', 'slasher', 'flick', '.', '.', '.', 'it', \"'\", 's', 'just', 'packaged', 'to', 'look', 'that', 'way', 'because', 'someone', 'is', 'apparently', 'assuming', 'that', 'the', 'genre', 'is', 'still', 'hot', 'with', 'the', 'kids', '.', 'it', 'also', 'wrapped', 'production', 'two', 'years', 'ago', 'and', 'has', 'been', 'sitting', 'on', 'the', 'shelves', 'ever', 'since', '.', 'whatever', '.', '.', '.', 'skip', 'it', '!', 'where', \"'\", 's', 'joblo', 'coming', 'from', '?', 'a', 'nightmare', 'of', 'elm', 'street', '3', '(', '7', '/', '10', ')', '-', 'blair', 'witch', '2', '(', '7', '/', '10', ')', '-', 'the', 'crow', '(', '9', '/', '10', ')', '-', 'the', 'crow', ':', 'salvation', '(', '4', '/', '10', ')', '-', 'lost', 'highway', '(', '10', '/', '10', ')', '-', 'memento', '(', '10', '/', '10', ')', '-', 'the', 'others', '(', '9', '/', '10', ')', '-', 'stir', 'of', 'echoes', '(', '8', '/', '10', ')'], 'neg')\n"
     ]
    }
   ],
   "source": [
    "print(docs[0])"
   ]
  },
  {
   "cell_type": "markdown",
   "id": "59f7a5d1",
   "metadata": {},
   "source": [
    "##### Feature extraction"
   ]
  },
  {
   "cell_type": "code",
   "execution_count": 108,
   "id": "1a3673e1",
   "metadata": {},
   "outputs": [],
   "source": [
    "word_features = [w[0] for w in counter_dict.most_common(300)]"
   ]
  },
  {
   "cell_type": "code",
   "execution_count": 109,
   "id": "ed931053",
   "metadata": {},
   "outputs": [
    {
     "data": {
      "text/plain": [
       "['film',\n",
       " 'one',\n",
       " 'movie',\n",
       " 'like',\n",
       " 'even',\n",
       " 'good',\n",
       " 'time',\n",
       " 'story',\n",
       " 'would',\n",
       " 'much']"
      ]
     },
     "execution_count": 109,
     "metadata": {},
     "output_type": "execute_result"
    }
   ],
   "source": [
    "word_features[:10]"
   ]
  },
  {
   "cell_type": "code",
   "execution_count": 110,
   "id": "8c89758d",
   "metadata": {},
   "outputs": [
    {
     "data": {
      "text/plain": [
       "300"
      ]
     },
     "execution_count": 110,
     "metadata": {},
     "output_type": "execute_result"
    }
   ],
   "source": [
    "len(word_features)"
   ]
  },
  {
   "cell_type": "code",
   "execution_count": 111,
   "id": "4b787b5e",
   "metadata": {},
   "outputs": [],
   "source": [
    "def search_features(doc):\n",
    "    words = set(doc)\n",
    "    features = {}\n",
    "    for w in word_features:\n",
    "        features[w] = (w in words)\n",
    "    return features"
   ]
  },
  {
   "cell_type": "code",
   "execution_count": 112,
   "id": "b6a4ccc3",
   "metadata": {},
   "outputs": [
    {
     "data": {
      "text/plain": [
       "{'film': True,\n",
       " 'one': True,\n",
       " 'movie': True,\n",
       " 'like': True,\n",
       " 'even': False,\n",
       " 'good': False,\n",
       " 'time': False,\n",
       " 'story': False,\n",
       " 'would': False,\n",
       " 'much': False,\n",
       " 'character': False,\n",
       " 'also': False,\n",
       " 'get': False,\n",
       " 'two': False,\n",
       " 'well': False,\n",
       " 'characters': False,\n",
       " 'first': False,\n",
       " 'see': False,\n",
       " 'way': False,\n",
       " 'make': False,\n",
       " 'life': False,\n",
       " 'really': False,\n",
       " 'films': False,\n",
       " 'plot': False,\n",
       " 'little': False,\n",
       " 'people': False,\n",
       " 'could': False,\n",
       " 'scene': False,\n",
       " 'bad': False,\n",
       " 'man': False,\n",
       " 'never': False,\n",
       " 'best': False,\n",
       " 'new': False,\n",
       " 'scenes': False,\n",
       " 'many': False,\n",
       " 'director': False,\n",
       " 'know': False,\n",
       " 'movies': False,\n",
       " 'action': False,\n",
       " 'great': False,\n",
       " 'another': False,\n",
       " 'love': False,\n",
       " 'go': False,\n",
       " 'made': False,\n",
       " 'us': False,\n",
       " 'big': False,\n",
       " 'end': False,\n",
       " 'something': False,\n",
       " 'back': False,\n",
       " 'still': False,\n",
       " 'world': False,\n",
       " 'seems': False,\n",
       " 'work': False,\n",
       " 'makes': False,\n",
       " 'however': False,\n",
       " 'every': False,\n",
       " 'though': False,\n",
       " 'better': False,\n",
       " 'real': False,\n",
       " 'audience': False,\n",
       " 'enough': False,\n",
       " 'seen': False,\n",
       " 'take': False,\n",
       " 'around': False,\n",
       " 'going': False,\n",
       " 'year': False,\n",
       " 'performance': False,\n",
       " 'role': False,\n",
       " 'old': False,\n",
       " 'gets': False,\n",
       " 'may': False,\n",
       " 'things': False,\n",
       " 'think': False,\n",
       " 'last': False,\n",
       " 'years': False,\n",
       " 'comedy': False,\n",
       " 'funny': False,\n",
       " 'actually': False,\n",
       " 'long': False,\n",
       " 'look': False,\n",
       " 'almost': False,\n",
       " 'thing': False,\n",
       " 'fact': False,\n",
       " 'nothing': False,\n",
       " 'say': False,\n",
       " 'john': False,\n",
       " 'right': False,\n",
       " 'although': False,\n",
       " 'played': False,\n",
       " 'find': False,\n",
       " 'come': False,\n",
       " 'script': False,\n",
       " 'ever': False,\n",
       " 'cast': False,\n",
       " 'since': False,\n",
       " 'star': False,\n",
       " 'plays': False,\n",
       " 'young': False,\n",
       " 'show': False,\n",
       " 'comes': False,\n",
       " 'part': False,\n",
       " 'original': False,\n",
       " 'actors': False,\n",
       " 'screen': False,\n",
       " 'without': False,\n",
       " 'acting': False,\n",
       " 'three': False,\n",
       " 'day': False,\n",
       " 'point': False,\n",
       " 'lot': False,\n",
       " 'least': False,\n",
       " 'takes': False,\n",
       " 'guy': False,\n",
       " 'quite': False,\n",
       " 'away': False,\n",
       " 'family': False,\n",
       " 'effects': False,\n",
       " 'course': False,\n",
       " 'goes': False,\n",
       " 'minutes': False,\n",
       " 'interesting': False,\n",
       " 'might': False,\n",
       " 'far': False,\n",
       " 'high': False,\n",
       " 'rather': False,\n",
       " 'must': False,\n",
       " 'anything': False,\n",
       " 'place': False,\n",
       " 'set': False,\n",
       " 'yet': False,\n",
       " 'watch': False,\n",
       " 'making': False,\n",
       " 'wife': False,\n",
       " 'hard': False,\n",
       " 'always': False,\n",
       " 'fun': False,\n",
       " 'seem': False,\n",
       " 'special': False,\n",
       " 'bit': False,\n",
       " 'times': False,\n",
       " 'trying': False,\n",
       " 'hollywood': False,\n",
       " 'instead': False,\n",
       " 'give': False,\n",
       " 'want': False,\n",
       " 'picture': False,\n",
       " 'kind': False,\n",
       " 'american': False,\n",
       " 'job': False,\n",
       " 'sense': False,\n",
       " 'woman': False,\n",
       " 'home': False,\n",
       " 'series': False,\n",
       " 'actor': False,\n",
       " 'probably': False,\n",
       " 'help': False,\n",
       " 'half': False,\n",
       " 'men': False,\n",
       " 'along': False,\n",
       " 'everything': False,\n",
       " 'pretty': False,\n",
       " 'becomes': False,\n",
       " 'sure': False,\n",
       " 'black': False,\n",
       " 'together': False,\n",
       " 'dialogue': False,\n",
       " 'money': False,\n",
       " 'become': False,\n",
       " 'gives': False,\n",
       " 'given': False,\n",
       " 'looking': False,\n",
       " 'whole': False,\n",
       " 'watching': False,\n",
       " 'father': False,\n",
       " 'got': False,\n",
       " 'feel': False,\n",
       " 'everyone': False,\n",
       " 'music': False,\n",
       " 'wants': False,\n",
       " 'sex': False,\n",
       " 'less': False,\n",
       " 'done': False,\n",
       " 'horror': False,\n",
       " 'death': False,\n",
       " 'perhaps': False,\n",
       " 'city': False,\n",
       " 'next': False,\n",
       " 'especially': False,\n",
       " 'play': False,\n",
       " 'mind': False,\n",
       " 'girl': False,\n",
       " '10': False,\n",
       " 'moments': False,\n",
       " 'looks': False,\n",
       " 'completely': False,\n",
       " '2': False,\n",
       " 'reason': False,\n",
       " 'mother': False,\n",
       " 'whose': False,\n",
       " 'line': False,\n",
       " 'night': False,\n",
       " 'human': False,\n",
       " 'rest': False,\n",
       " 'performances': False,\n",
       " 'different': False,\n",
       " 'evil': False,\n",
       " 'small': False,\n",
       " 'james': False,\n",
       " 'simply': False,\n",
       " 'couple': False,\n",
       " 'put': False,\n",
       " 'let': False,\n",
       " 'anyone': False,\n",
       " 'ending': False,\n",
       " 'case': False,\n",
       " 'dead': False,\n",
       " 'several': False,\n",
       " 'michael': False,\n",
       " 'left': False,\n",
       " 'thought': False,\n",
       " 'school': False,\n",
       " 'shows': False,\n",
       " 'humor': False,\n",
       " 'true': False,\n",
       " 'lost': False,\n",
       " 'written': False,\n",
       " 'friend': False,\n",
       " 'entire': False,\n",
       " 'getting': False,\n",
       " 'town': False,\n",
       " 'turns': False,\n",
       " 'soon': False,\n",
       " 'someone': False,\n",
       " 'second': False,\n",
       " 'main': False,\n",
       " 'stars': False,\n",
       " 'found': False,\n",
       " 'use': False,\n",
       " 'problem': False,\n",
       " 'friends': False,\n",
       " 'tv': False,\n",
       " 'top': False,\n",
       " 'name': False,\n",
       " 'begins': False,\n",
       " 'called': False,\n",
       " 'based': False,\n",
       " 'comic': False,\n",
       " 'david': False,\n",
       " 'head': False,\n",
       " 'else': False,\n",
       " 'idea': False,\n",
       " 'either': False,\n",
       " 'wrong': False,\n",
       " 'unfortunately': False,\n",
       " 'later': False,\n",
       " 'final': False,\n",
       " 'hand': False,\n",
       " 'house': False,\n",
       " 'alien': False,\n",
       " 'group': False,\n",
       " 'full': False,\n",
       " 'used': False,\n",
       " 'tries': False,\n",
       " 'often': False,\n",
       " 'war': False,\n",
       " 'sequence': False,\n",
       " 'keep': False,\n",
       " 'turn': False,\n",
       " 'playing': False,\n",
       " 'boy': False,\n",
       " 'live': False,\n",
       " 'behind': False,\n",
       " 'named': False,\n",
       " 'certainly': False,\n",
       " 'believe': False,\n",
       " 'works': False,\n",
       " 'relationship': False,\n",
       " 'face': False,\n",
       " 'hour': False,\n",
       " 'run': False,\n",
       " 'style': False,\n",
       " 'said': False,\n",
       " 'despite': False,\n",
       " 'person': False,\n",
       " 'finally': False,\n",
       " 'shot': False,\n",
       " 'book': False,\n",
       " 'tell': False,\n",
       " 'maybe': False,\n",
       " 'nice': False,\n",
       " 'son': False,\n",
       " 'perfect': False,\n",
       " 'side': False,\n",
       " 'seeing': False,\n",
       " 'able': False,\n",
       " 'children': False,\n",
       " 'finds': False,\n",
       " 'days': False,\n",
       " 'past': False,\n",
       " 'summer': False}"
      ]
     },
     "execution_count": 112,
     "metadata": {},
     "output_type": "execute_result"
    }
   ],
   "source": [
    "search_features(word_features[:4])"
   ]
  },
  {
   "cell_type": "code",
   "execution_count": 113,
   "id": "799a5a44",
   "metadata": {},
   "outputs": [
    {
     "name": "stdout",
     "output_type": "stream",
     "text": [
      "{'film': True, 'one': True, 'movie': True, 'like': True, 'even': True, 'good': True, 'time': False, 'story': False, 'would': True, 'much': False, 'character': True, 'also': True, 'get': True, 'two': True, 'well': True, 'characters': True, 'first': False, 'see': True, 'way': True, 'make': True, 'life': True, 'really': True, 'films': True, 'plot': True, 'little': True, 'people': True, 'could': False, 'scene': False, 'bad': True, 'man': False, 'never': False, 'best': False, 'new': True, 'scenes': True, 'many': False, 'director': True, 'know': True, 'movies': True, 'action': False, 'great': False, 'another': False, 'love': False, 'go': True, 'made': False, 'us': True, 'big': True, 'end': False, 'something': False, 'back': True, 'still': True, 'world': True, 'seems': True, 'work': False, 'makes': True, 'however': False, 'every': True, 'though': False, 'better': False, 'real': False, 'audience': True, 'enough': False, 'seen': False, 'take': False, 'around': False, 'going': True, 'year': False, 'performance': False, 'role': False, 'old': False, 'gets': False, 'may': False, 'things': True, 'think': False, 'last': False, 'years': True, 'comedy': False, 'funny': False, 'actually': True, 'long': False, 'look': True, 'almost': False, 'thing': False, 'fact': False, 'nothing': False, 'say': False, 'john': False, 'right': False, 'although': True, 'played': False, 'find': True, 'come': False, 'script': False, 'ever': True, 'cast': False, 'since': True, 'star': False, 'plays': False, 'young': False, 'show': False, 'comes': False, 'part': True, 'original': False, 'actors': True, 'screen': False, 'without': False, 'acting': False, 'three': False, 'day': False, 'point': True, 'lot': False, 'least': False, 'takes': False, 'guy': False, 'quite': False, 'away': True, 'family': False, 'effects': False, 'course': False, 'goes': False, 'minutes': True, 'interesting': False, 'might': True, 'far': False, 'high': False, 'rather': False, 'must': False, 'anything': False, 'place': False, 'set': False, 'yet': False, 'watch': True, 'making': True, 'wife': False, 'hard': False, 'always': True, 'fun': False, 'seem': True, 'special': False, 'bit': True, 'times': False, 'trying': True, 'hollywood': False, 'instead': False, 'give': True, 'want': True, 'picture': False, 'kind': True, 'american': True, 'job': False, 'sense': True, 'woman': False, 'home': False, 'series': False, 'actor': False, 'probably': False, 'help': False, 'half': True, 'men': False, 'along': False, 'everything': False, 'pretty': True, 'becomes': False, 'sure': True, 'black': False, 'together': False, 'dialogue': False, 'money': False, 'become': False, 'gives': False, 'given': True, 'looking': False, 'whole': False, 'watching': False, 'father': False, 'got': True, 'feel': False, 'everyone': False, 'music': True, 'wants': False, 'sex': False, 'less': False, 'done': False, 'horror': True, 'death': False, 'perhaps': False, 'city': False, 'next': False, 'especially': False, 'play': False, 'mind': True, 'girl': False, '10': True, 'moments': False, 'looks': False, 'completely': True, '2': True, 'reason': False, 'mother': False, 'whose': False, 'line': True, 'night': False, 'human': False, 'rest': False, 'performances': False, 'different': True, 'evil': False, 'small': False, 'james': False, 'simply': True, 'couple': False, 'put': False, 'let': False, 'anyone': False, 'ending': True, 'case': False, 'dead': True, 'several': False, 'michael': False, 'left': False, 'thought': False, 'school': False, 'shows': True, 'humor': False, 'true': False, 'lost': True, 'written': False, 'friend': False, 'entire': True, 'getting': False, 'town': False, 'turns': False, 'soon': False, 'someone': True, 'second': False, 'main': True, 'stars': False, 'found': False, 'use': False, 'problem': True, 'friends': False, 'tv': False, 'top': False, 'name': False, 'begins': False, 'called': False, 'based': False, 'comic': False, 'david': False, 'head': True, 'else': False, 'idea': True, 'either': False, 'wrong': False, 'unfortunately': False, 'later': False, 'final': True, 'hand': False, 'house': False, 'alien': False, 'group': False, 'full': False, 'used': False, 'tries': False, 'often': False, 'war': False, 'sequence': False, 'keep': False, 'turn': False, 'playing': True, 'boy': False, 'live': False, 'behind': False, 'named': False, 'certainly': False, 'believe': False, 'works': False, 'relationship': False, 'face': False, 'hour': False, 'run': False, 'style': False, 'said': False, 'despite': True, 'person': False, 'finally': False, 'shot': False, 'book': False, 'tell': False, 'maybe': False, 'nice': False, 'son': False, 'perfect': False, 'side': False, 'seeing': False, 'able': False, 'children': False, 'finds': False, 'days': False, 'past': False, 'summer': False}\n"
     ]
    }
   ],
   "source": [
    "print(search_features(docs[0][0]))"
   ]
  },
  {
   "cell_type": "code",
   "execution_count": 114,
   "id": "bb519437",
   "metadata": {},
   "outputs": [
    {
     "name": "stdout",
     "output_type": "stream",
     "text": [
      "{'film': False, 'one': False, 'movie': False, 'like': False, 'even': False, 'good': False, 'time': False, 'story': False, 'would': False, 'much': False, 'character': False, 'also': False, 'get': False, 'two': False, 'well': False, 'characters': False, 'first': False, 'see': False, 'way': False, 'make': False, 'life': False, 'really': False, 'films': False, 'plot': False, 'little': False, 'people': False, 'could': False, 'scene': False, 'bad': False, 'man': False, 'never': False, 'best': False, 'new': False, 'scenes': False, 'many': False, 'director': False, 'know': False, 'movies': False, 'action': False, 'great': False, 'another': False, 'love': False, 'go': False, 'made': False, 'us': False, 'big': False, 'end': False, 'something': False, 'back': False, 'still': False, 'world': False, 'seems': False, 'work': False, 'makes': False, 'however': False, 'every': False, 'though': False, 'better': False, 'real': False, 'audience': False, 'enough': False, 'seen': False, 'take': False, 'around': False, 'going': False, 'year': False, 'performance': False, 'role': False, 'old': False, 'gets': False, 'may': False, 'things': False, 'think': False, 'last': False, 'years': False, 'comedy': False, 'funny': False, 'actually': False, 'long': False, 'look': False, 'almost': False, 'thing': False, 'fact': False, 'nothing': False, 'say': False, 'john': False, 'right': False, 'although': False, 'played': False, 'find': False, 'come': False, 'script': False, 'ever': False, 'cast': False, 'since': False, 'star': False, 'plays': False, 'young': False, 'show': False, 'comes': False, 'part': False, 'original': False, 'actors': False, 'screen': False, 'without': False, 'acting': False, 'three': False, 'day': False, 'point': False, 'lot': False, 'least': False, 'takes': False, 'guy': False, 'quite': False, 'away': False, 'family': False, 'effects': False, 'course': False, 'goes': False, 'minutes': False, 'interesting': False, 'might': False, 'far': False, 'high': False, 'rather': False, 'must': False, 'anything': False, 'place': False, 'set': False, 'yet': False, 'watch': False, 'making': False, 'wife': False, 'hard': False, 'always': False, 'fun': False, 'seem': False, 'special': False, 'bit': False, 'times': False, 'trying': False, 'hollywood': False, 'instead': False, 'give': False, 'want': False, 'picture': False, 'kind': False, 'american': False, 'job': False, 'sense': False, 'woman': False, 'home': False, 'series': False, 'actor': False, 'probably': False, 'help': False, 'half': False, 'men': False, 'along': False, 'everything': False, 'pretty': False, 'becomes': False, 'sure': False, 'black': False, 'together': False, 'dialogue': False, 'money': False, 'become': False, 'gives': False, 'given': False, 'looking': False, 'whole': False, 'watching': False, 'father': False, 'got': False, 'feel': False, 'everyone': False, 'music': False, 'wants': False, 'sex': False, 'less': False, 'done': False, 'horror': False, 'death': False, 'perhaps': False, 'city': False, 'next': False, 'especially': False, 'play': False, 'mind': False, 'girl': False, '10': False, 'moments': False, 'looks': False, 'completely': False, '2': False, 'reason': False, 'mother': False, 'whose': False, 'line': False, 'night': False, 'human': False, 'rest': False, 'performances': False, 'different': False, 'evil': False, 'small': False, 'james': False, 'simply': False, 'couple': False, 'put': False, 'let': False, 'anyone': False, 'ending': False, 'case': False, 'dead': False, 'several': False, 'michael': False, 'left': False, 'thought': False, 'school': False, 'shows': False, 'humor': False, 'true': False, 'lost': False, 'written': False, 'friend': False, 'entire': False, 'getting': False, 'town': False, 'turns': False, 'soon': False, 'someone': False, 'second': False, 'main': False, 'stars': False, 'found': False, 'use': False, 'problem': False, 'friends': False, 'tv': False, 'top': False, 'name': False, 'begins': False, 'called': False, 'based': False, 'comic': False, 'david': False, 'head': False, 'else': False, 'idea': False, 'either': False, 'wrong': False, 'unfortunately': False, 'later': False, 'final': False, 'hand': False, 'house': False, 'alien': False, 'group': False, 'full': False, 'used': False, 'tries': False, 'often': False, 'war': False, 'sequence': False, 'keep': False, 'turn': False, 'playing': False, 'boy': False, 'live': False, 'behind': False, 'named': False, 'certainly': False, 'believe': False, 'works': False, 'relationship': False, 'face': False, 'hour': False, 'run': False, 'style': False, 'said': False, 'despite': False, 'person': False, 'finally': False, 'shot': False, 'book': False, 'tell': False, 'maybe': False, 'nice': False, 'son': False, 'perfect': False, 'side': False, 'seeing': False, 'able': False, 'children': False, 'finds': False, 'days': False, 'past': False, 'summer': False}\n"
     ]
    }
   ],
   "source": [
    "print(search_features(docs[1][1]))"
   ]
  },
  {
   "cell_type": "code",
   "execution_count": 115,
   "id": "1ae372ad",
   "metadata": {},
   "outputs": [
    {
     "data": {
      "text/plain": [
       "300"
      ]
     },
     "execution_count": 115,
     "metadata": {},
     "output_type": "execute_result"
    }
   ],
   "source": [
    "len(search_features(docs[0][0]))"
   ]
  },
  {
   "cell_type": "code",
   "execution_count": 116,
   "id": "a27843af",
   "metadata": {},
   "outputs": [
    {
     "name": "stdout",
     "output_type": "stream",
     "text": [
      "True: 91\n",
      "False: 209\n"
     ]
    }
   ],
   "source": [
    "count_t = 0\n",
    "count_f = 0\n",
    "for each in search_features(docs[0][0]).items():\n",
    "    if each[1] == True: \n",
    "        count_t += 1\n",
    "    else: \n",
    "        count_f += 1\n",
    "        \n",
    "print(\"True:\", count_t)\n",
    "print(\"False:\", count_f)"
   ]
  },
  {
   "cell_type": "code",
   "execution_count": 117,
   "id": "367ebb9e",
   "metadata": {},
   "outputs": [
    {
     "name": "stdout",
     "output_type": "stream",
     "text": [
      "1552\n",
      "506\n"
     ]
    }
   ],
   "source": [
    "max_index = 0\n",
    "min_index = 0\n",
    "for i in range(len(docs)):\n",
    "    length = len(docs[i][0])\n",
    "    if length > len(docs[max_index][0]):\n",
    "        max_index = i\n",
    "    if length < len(docs[min_index][0]):\n",
    "        min_index = i\n",
    "print(max_index)\n",
    "print(min_index)"
   ]
  },
  {
   "cell_type": "code",
   "execution_count": 118,
   "id": "4ad10df5",
   "metadata": {},
   "outputs": [
    {
     "data": {
      "text/plain": [
       "2879"
      ]
     },
     "execution_count": 118,
     "metadata": {},
     "output_type": "execute_result"
    }
   ],
   "source": [
    "len(docs[max_index][0])"
   ]
  },
  {
   "cell_type": "code",
   "execution_count": 119,
   "id": "e8624704",
   "metadata": {},
   "outputs": [],
   "source": [
    "featureset = [(search_features(doc), category) for (doc, category) in docs]"
   ]
  },
  {
   "cell_type": "code",
   "execution_count": 120,
   "id": "5f4c8ec6",
   "metadata": {},
   "outputs": [
    {
     "data": {
      "text/plain": [
       "[({'film': True,\n",
       "   'one': True,\n",
       "   'movie': True,\n",
       "   'like': True,\n",
       "   'even': True,\n",
       "   'good': True,\n",
       "   'time': False,\n",
       "   'story': False,\n",
       "   'would': True,\n",
       "   'much': False,\n",
       "   'character': True,\n",
       "   'also': True,\n",
       "   'get': True,\n",
       "   'two': True,\n",
       "   'well': True,\n",
       "   'characters': True,\n",
       "   'first': False,\n",
       "   'see': True,\n",
       "   'way': True,\n",
       "   'make': True,\n",
       "   'life': True,\n",
       "   'really': True,\n",
       "   'films': True,\n",
       "   'plot': True,\n",
       "   'little': True,\n",
       "   'people': True,\n",
       "   'could': False,\n",
       "   'scene': False,\n",
       "   'bad': True,\n",
       "   'man': False,\n",
       "   'never': False,\n",
       "   'best': False,\n",
       "   'new': True,\n",
       "   'scenes': True,\n",
       "   'many': False,\n",
       "   'director': True,\n",
       "   'know': True,\n",
       "   'movies': True,\n",
       "   'action': False,\n",
       "   'great': False,\n",
       "   'another': False,\n",
       "   'love': False,\n",
       "   'go': True,\n",
       "   'made': False,\n",
       "   'us': True,\n",
       "   'big': True,\n",
       "   'end': False,\n",
       "   'something': False,\n",
       "   'back': True,\n",
       "   'still': True,\n",
       "   'world': True,\n",
       "   'seems': True,\n",
       "   'work': False,\n",
       "   'makes': True,\n",
       "   'however': False,\n",
       "   'every': True,\n",
       "   'though': False,\n",
       "   'better': False,\n",
       "   'real': False,\n",
       "   'audience': True,\n",
       "   'enough': False,\n",
       "   'seen': False,\n",
       "   'take': False,\n",
       "   'around': False,\n",
       "   'going': True,\n",
       "   'year': False,\n",
       "   'performance': False,\n",
       "   'role': False,\n",
       "   'old': False,\n",
       "   'gets': False,\n",
       "   'may': False,\n",
       "   'things': True,\n",
       "   'think': False,\n",
       "   'last': False,\n",
       "   'years': True,\n",
       "   'comedy': False,\n",
       "   'funny': False,\n",
       "   'actually': True,\n",
       "   'long': False,\n",
       "   'look': True,\n",
       "   'almost': False,\n",
       "   'thing': False,\n",
       "   'fact': False,\n",
       "   'nothing': False,\n",
       "   'say': False,\n",
       "   'john': False,\n",
       "   'right': False,\n",
       "   'although': True,\n",
       "   'played': False,\n",
       "   'find': True,\n",
       "   'come': False,\n",
       "   'script': False,\n",
       "   'ever': True,\n",
       "   'cast': False,\n",
       "   'since': True,\n",
       "   'star': False,\n",
       "   'plays': False,\n",
       "   'young': False,\n",
       "   'show': False,\n",
       "   'comes': False,\n",
       "   'part': True,\n",
       "   'original': False,\n",
       "   'actors': True,\n",
       "   'screen': False,\n",
       "   'without': False,\n",
       "   'acting': False,\n",
       "   'three': False,\n",
       "   'day': False,\n",
       "   'point': True,\n",
       "   'lot': False,\n",
       "   'least': False,\n",
       "   'takes': False,\n",
       "   'guy': False,\n",
       "   'quite': False,\n",
       "   'away': True,\n",
       "   'family': False,\n",
       "   'effects': False,\n",
       "   'course': False,\n",
       "   'goes': False,\n",
       "   'minutes': True,\n",
       "   'interesting': False,\n",
       "   'might': True,\n",
       "   'far': False,\n",
       "   'high': False,\n",
       "   'rather': False,\n",
       "   'must': False,\n",
       "   'anything': False,\n",
       "   'place': False,\n",
       "   'set': False,\n",
       "   'yet': False,\n",
       "   'watch': True,\n",
       "   'making': True,\n",
       "   'wife': False,\n",
       "   'hard': False,\n",
       "   'always': True,\n",
       "   'fun': False,\n",
       "   'seem': True,\n",
       "   'special': False,\n",
       "   'bit': True,\n",
       "   'times': False,\n",
       "   'trying': True,\n",
       "   'hollywood': False,\n",
       "   'instead': False,\n",
       "   'give': True,\n",
       "   'want': True,\n",
       "   'picture': False,\n",
       "   'kind': True,\n",
       "   'american': True,\n",
       "   'job': False,\n",
       "   'sense': True,\n",
       "   'woman': False,\n",
       "   'home': False,\n",
       "   'series': False,\n",
       "   'actor': False,\n",
       "   'probably': False,\n",
       "   'help': False,\n",
       "   'half': True,\n",
       "   'men': False,\n",
       "   'along': False,\n",
       "   'everything': False,\n",
       "   'pretty': True,\n",
       "   'becomes': False,\n",
       "   'sure': True,\n",
       "   'black': False,\n",
       "   'together': False,\n",
       "   'dialogue': False,\n",
       "   'money': False,\n",
       "   'become': False,\n",
       "   'gives': False,\n",
       "   'given': True,\n",
       "   'looking': False,\n",
       "   'whole': False,\n",
       "   'watching': False,\n",
       "   'father': False,\n",
       "   'got': True,\n",
       "   'feel': False,\n",
       "   'everyone': False,\n",
       "   'music': True,\n",
       "   'wants': False,\n",
       "   'sex': False,\n",
       "   'less': False,\n",
       "   'done': False,\n",
       "   'horror': True,\n",
       "   'death': False,\n",
       "   'perhaps': False,\n",
       "   'city': False,\n",
       "   'next': False,\n",
       "   'especially': False,\n",
       "   'play': False,\n",
       "   'mind': True,\n",
       "   'girl': False,\n",
       "   '10': True,\n",
       "   'moments': False,\n",
       "   'looks': False,\n",
       "   'completely': True,\n",
       "   '2': True,\n",
       "   'reason': False,\n",
       "   'mother': False,\n",
       "   'whose': False,\n",
       "   'line': True,\n",
       "   'night': False,\n",
       "   'human': False,\n",
       "   'rest': False,\n",
       "   'performances': False,\n",
       "   'different': True,\n",
       "   'evil': False,\n",
       "   'small': False,\n",
       "   'james': False,\n",
       "   'simply': True,\n",
       "   'couple': False,\n",
       "   'put': False,\n",
       "   'let': False,\n",
       "   'anyone': False,\n",
       "   'ending': True,\n",
       "   'case': False,\n",
       "   'dead': True,\n",
       "   'several': False,\n",
       "   'michael': False,\n",
       "   'left': False,\n",
       "   'thought': False,\n",
       "   'school': False,\n",
       "   'shows': True,\n",
       "   'humor': False,\n",
       "   'true': False,\n",
       "   'lost': True,\n",
       "   'written': False,\n",
       "   'friend': False,\n",
       "   'entire': True,\n",
       "   'getting': False,\n",
       "   'town': False,\n",
       "   'turns': False,\n",
       "   'soon': False,\n",
       "   'someone': True,\n",
       "   'second': False,\n",
       "   'main': True,\n",
       "   'stars': False,\n",
       "   'found': False,\n",
       "   'use': False,\n",
       "   'problem': True,\n",
       "   'friends': False,\n",
       "   'tv': False,\n",
       "   'top': False,\n",
       "   'name': False,\n",
       "   'begins': False,\n",
       "   'called': False,\n",
       "   'based': False,\n",
       "   'comic': False,\n",
       "   'david': False,\n",
       "   'head': True,\n",
       "   'else': False,\n",
       "   'idea': True,\n",
       "   'either': False,\n",
       "   'wrong': False,\n",
       "   'unfortunately': False,\n",
       "   'later': False,\n",
       "   'final': True,\n",
       "   'hand': False,\n",
       "   'house': False,\n",
       "   'alien': False,\n",
       "   'group': False,\n",
       "   'full': False,\n",
       "   'used': False,\n",
       "   'tries': False,\n",
       "   'often': False,\n",
       "   'war': False,\n",
       "   'sequence': False,\n",
       "   'keep': False,\n",
       "   'turn': False,\n",
       "   'playing': True,\n",
       "   'boy': False,\n",
       "   'live': False,\n",
       "   'behind': False,\n",
       "   'named': False,\n",
       "   'certainly': False,\n",
       "   'believe': False,\n",
       "   'works': False,\n",
       "   'relationship': False,\n",
       "   'face': False,\n",
       "   'hour': False,\n",
       "   'run': False,\n",
       "   'style': False,\n",
       "   'said': False,\n",
       "   'despite': True,\n",
       "   'person': False,\n",
       "   'finally': False,\n",
       "   'shot': False,\n",
       "   'book': False,\n",
       "   'tell': False,\n",
       "   'maybe': False,\n",
       "   'nice': False,\n",
       "   'son': False,\n",
       "   'perfect': False,\n",
       "   'side': False,\n",
       "   'seeing': False,\n",
       "   'able': False,\n",
       "   'children': False,\n",
       "   'finds': False,\n",
       "   'days': False,\n",
       "   'past': False,\n",
       "   'summer': False},\n",
       "  'neg')]"
      ]
     },
     "execution_count": 120,
     "metadata": {},
     "output_type": "execute_result"
    }
   ],
   "source": [
    "featureset[:1]"
   ]
  },
  {
   "cell_type": "code",
   "execution_count": 121,
   "id": "c10222d5",
   "metadata": {},
   "outputs": [],
   "source": [
    "training_set = featureset[:1600]\n",
    "testing_set = featureset[1600:]"
   ]
  },
  {
   "cell_type": "code",
   "execution_count": 135,
   "id": "1bc6062e",
   "metadata": {},
   "outputs": [
    {
     "data": {
      "text/plain": [
       "({'film': True,\n",
       "  'one': True,\n",
       "  'movie': True,\n",
       "  'like': True,\n",
       "  'even': True,\n",
       "  'good': True,\n",
       "  'time': False,\n",
       "  'story': False,\n",
       "  'would': True,\n",
       "  'much': False,\n",
       "  'character': True,\n",
       "  'also': True,\n",
       "  'get': True,\n",
       "  'two': True,\n",
       "  'well': True,\n",
       "  'characters': True,\n",
       "  'first': False,\n",
       "  'see': True,\n",
       "  'way': True,\n",
       "  'make': True,\n",
       "  'life': True,\n",
       "  'really': True,\n",
       "  'films': True,\n",
       "  'plot': True,\n",
       "  'little': True,\n",
       "  'people': True,\n",
       "  'could': False,\n",
       "  'scene': False,\n",
       "  'bad': True,\n",
       "  'man': False,\n",
       "  'never': False,\n",
       "  'best': False,\n",
       "  'new': True,\n",
       "  'scenes': True,\n",
       "  'many': False,\n",
       "  'director': True,\n",
       "  'know': True,\n",
       "  'movies': True,\n",
       "  'action': False,\n",
       "  'great': False,\n",
       "  'another': False,\n",
       "  'love': False,\n",
       "  'go': True,\n",
       "  'made': False,\n",
       "  'us': True,\n",
       "  'big': True,\n",
       "  'end': False,\n",
       "  'something': False,\n",
       "  'back': True,\n",
       "  'still': True,\n",
       "  'world': True,\n",
       "  'seems': True,\n",
       "  'work': False,\n",
       "  'makes': True,\n",
       "  'however': False,\n",
       "  'every': True,\n",
       "  'though': False,\n",
       "  'better': False,\n",
       "  'real': False,\n",
       "  'audience': True,\n",
       "  'enough': False,\n",
       "  'seen': False,\n",
       "  'take': False,\n",
       "  'around': False,\n",
       "  'going': True,\n",
       "  'year': False,\n",
       "  'performance': False,\n",
       "  'role': False,\n",
       "  'old': False,\n",
       "  'gets': False,\n",
       "  'may': False,\n",
       "  'things': True,\n",
       "  'think': False,\n",
       "  'last': False,\n",
       "  'years': True,\n",
       "  'comedy': False,\n",
       "  'funny': False,\n",
       "  'actually': True,\n",
       "  'long': False,\n",
       "  'look': True,\n",
       "  'almost': False,\n",
       "  'thing': False,\n",
       "  'fact': False,\n",
       "  'nothing': False,\n",
       "  'say': False,\n",
       "  'john': False,\n",
       "  'right': False,\n",
       "  'although': True,\n",
       "  'played': False,\n",
       "  'find': True,\n",
       "  'come': False,\n",
       "  'script': False,\n",
       "  'ever': True,\n",
       "  'cast': False,\n",
       "  'since': True,\n",
       "  'star': False,\n",
       "  'plays': False,\n",
       "  'young': False,\n",
       "  'show': False,\n",
       "  'comes': False,\n",
       "  'part': True,\n",
       "  'original': False,\n",
       "  'actors': True,\n",
       "  'screen': False,\n",
       "  'without': False,\n",
       "  'acting': False,\n",
       "  'three': False,\n",
       "  'day': False,\n",
       "  'point': True,\n",
       "  'lot': False,\n",
       "  'least': False,\n",
       "  'takes': False,\n",
       "  'guy': False,\n",
       "  'quite': False,\n",
       "  'away': True,\n",
       "  'family': False,\n",
       "  'effects': False,\n",
       "  'course': False,\n",
       "  'goes': False,\n",
       "  'minutes': True,\n",
       "  'interesting': False,\n",
       "  'might': True,\n",
       "  'far': False,\n",
       "  'high': False,\n",
       "  'rather': False,\n",
       "  'must': False,\n",
       "  'anything': False,\n",
       "  'place': False,\n",
       "  'set': False,\n",
       "  'yet': False,\n",
       "  'watch': True,\n",
       "  'making': True,\n",
       "  'wife': False,\n",
       "  'hard': False,\n",
       "  'always': True,\n",
       "  'fun': False,\n",
       "  'seem': True,\n",
       "  'special': False,\n",
       "  'bit': True,\n",
       "  'times': False,\n",
       "  'trying': True,\n",
       "  'hollywood': False,\n",
       "  'instead': False,\n",
       "  'give': True,\n",
       "  'want': True,\n",
       "  'picture': False,\n",
       "  'kind': True,\n",
       "  'american': True,\n",
       "  'job': False,\n",
       "  'sense': True,\n",
       "  'woman': False,\n",
       "  'home': False,\n",
       "  'series': False,\n",
       "  'actor': False,\n",
       "  'probably': False,\n",
       "  'help': False,\n",
       "  'half': True,\n",
       "  'men': False,\n",
       "  'along': False,\n",
       "  'everything': False,\n",
       "  'pretty': True,\n",
       "  'becomes': False,\n",
       "  'sure': True,\n",
       "  'black': False,\n",
       "  'together': False,\n",
       "  'dialogue': False,\n",
       "  'money': False,\n",
       "  'become': False,\n",
       "  'gives': False,\n",
       "  'given': True,\n",
       "  'looking': False,\n",
       "  'whole': False,\n",
       "  'watching': False,\n",
       "  'father': False,\n",
       "  'got': True,\n",
       "  'feel': False,\n",
       "  'everyone': False,\n",
       "  'music': True,\n",
       "  'wants': False,\n",
       "  'sex': False,\n",
       "  'less': False,\n",
       "  'done': False,\n",
       "  'horror': True,\n",
       "  'death': False,\n",
       "  'perhaps': False,\n",
       "  'city': False,\n",
       "  'next': False,\n",
       "  'especially': False,\n",
       "  'play': False,\n",
       "  'mind': True,\n",
       "  'girl': False,\n",
       "  '10': True,\n",
       "  'moments': False,\n",
       "  'looks': False,\n",
       "  'completely': True,\n",
       "  '2': True,\n",
       "  'reason': False,\n",
       "  'mother': False,\n",
       "  'whose': False,\n",
       "  'line': True,\n",
       "  'night': False,\n",
       "  'human': False,\n",
       "  'rest': False,\n",
       "  'performances': False,\n",
       "  'different': True,\n",
       "  'evil': False,\n",
       "  'small': False,\n",
       "  'james': False,\n",
       "  'simply': True,\n",
       "  'couple': False,\n",
       "  'put': False,\n",
       "  'let': False,\n",
       "  'anyone': False,\n",
       "  'ending': True,\n",
       "  'case': False,\n",
       "  'dead': True,\n",
       "  'several': False,\n",
       "  'michael': False,\n",
       "  'left': False,\n",
       "  'thought': False,\n",
       "  'school': False,\n",
       "  'shows': True,\n",
       "  'humor': False,\n",
       "  'true': False,\n",
       "  'lost': True,\n",
       "  'written': False,\n",
       "  'friend': False,\n",
       "  'entire': True,\n",
       "  'getting': False,\n",
       "  'town': False,\n",
       "  'turns': False,\n",
       "  'soon': False,\n",
       "  'someone': True,\n",
       "  'second': False,\n",
       "  'main': True,\n",
       "  'stars': False,\n",
       "  'found': False,\n",
       "  'use': False,\n",
       "  'problem': True,\n",
       "  'friends': False,\n",
       "  'tv': False,\n",
       "  'top': False,\n",
       "  'name': False,\n",
       "  'begins': False,\n",
       "  'called': False,\n",
       "  'based': False,\n",
       "  'comic': False,\n",
       "  'david': False,\n",
       "  'head': True,\n",
       "  'else': False,\n",
       "  'idea': True,\n",
       "  'either': False,\n",
       "  'wrong': False,\n",
       "  'unfortunately': False,\n",
       "  'later': False,\n",
       "  'final': True,\n",
       "  'hand': False,\n",
       "  'house': False,\n",
       "  'alien': False,\n",
       "  'group': False,\n",
       "  'full': False,\n",
       "  'used': False,\n",
       "  'tries': False,\n",
       "  'often': False,\n",
       "  'war': False,\n",
       "  'sequence': False,\n",
       "  'keep': False,\n",
       "  'turn': False,\n",
       "  'playing': True,\n",
       "  'boy': False,\n",
       "  'live': False,\n",
       "  'behind': False,\n",
       "  'named': False,\n",
       "  'certainly': False,\n",
       "  'believe': False,\n",
       "  'works': False,\n",
       "  'relationship': False,\n",
       "  'face': False,\n",
       "  'hour': False,\n",
       "  'run': False,\n",
       "  'style': False,\n",
       "  'said': False,\n",
       "  'despite': True,\n",
       "  'person': False,\n",
       "  'finally': False,\n",
       "  'shot': False,\n",
       "  'book': False,\n",
       "  'tell': False,\n",
       "  'maybe': False,\n",
       "  'nice': False,\n",
       "  'son': False,\n",
       "  'perfect': False,\n",
       "  'side': False,\n",
       "  'seeing': False,\n",
       "  'able': False,\n",
       "  'children': False,\n",
       "  'finds': False,\n",
       "  'days': False,\n",
       "  'past': False,\n",
       "  'summer': False},\n",
       " 'neg')"
      ]
     },
     "execution_count": 135,
     "metadata": {},
     "output_type": "execute_result"
    }
   ],
   "source": [
    "training_set[0]"
   ]
  },
  {
   "cell_type": "code",
   "execution_count": 122,
   "id": "505c0be6",
   "metadata": {},
   "outputs": [],
   "source": [
    "classifier = nltk.NaiveBayesClassifier.train(training_set)"
   ]
  },
  {
   "cell_type": "code",
   "execution_count": 123,
   "id": "889a37c2",
   "metadata": {},
   "outputs": [
    {
     "name": "stdout",
     "output_type": "stream",
     "text": [
      "classifier's accuracy is: 70.5\n"
     ]
    }
   ],
   "source": [
    "print(\"classifier's accuracy is: {}\". format(nltk.classify.accuracy(classifier, testing_set)*100))"
   ]
  },
  {
   "cell_type": "code",
   "execution_count": 124,
   "id": "39f1b101",
   "metadata": {
    "scrolled": true
   },
   "outputs": [
    {
     "name": "stdout",
     "output_type": "stream",
     "text": [
      "classifier's accuracy in training set is: 78.75\n"
     ]
    }
   ],
   "source": [
    "print(\"classifier's accuracy in training set is: {}\". format(nltk.classify.accuracy(classifier, training_set)*100))"
   ]
  },
  {
   "cell_type": "code",
   "execution_count": 125,
   "id": "50fac9dc",
   "metadata": {},
   "outputs": [
    {
     "data": {
      "text/plain": [
       "0.22372881355932203"
      ]
     },
     "execution_count": 125,
     "metadata": {},
     "output_type": "execute_result"
    }
   ],
   "source": [
    "(90.25-73.75)/73.75"
   ]
  },
  {
   "cell_type": "code",
   "execution_count": 126,
   "id": "5aaa1eff",
   "metadata": {},
   "outputs": [
    {
     "name": "stdout",
     "output_type": "stream",
     "text": [
      "Most Informative Features\n",
      "                 perfect = True              pos : neg    =      2.2 : 1.0\n",
      "                     bad = True              neg : pos    =      1.9 : 1.0\n",
      "                     war = True              pos : neg    =      1.8 : 1.0\n",
      "           unfortunately = True              neg : pos    =      1.8 : 1.0\n",
      "                    true = True              pos : neg    =      1.8 : 1.0\n",
      "            performances = True              pos : neg    =      1.8 : 1.0\n",
      "                american = True              pos : neg    =      1.7 : 1.0\n",
      "                  reason = True              neg : pos    =      1.7 : 1.0\n",
      "                   maybe = True              neg : pos    =      1.7 : 1.0\n",
      "                  family = True              pos : neg    =      1.7 : 1.0\n"
     ]
    }
   ],
   "source": [
    "classifier.show_most_informative_features(10)"
   ]
  },
  {
   "cell_type": "code",
   "execution_count": 127,
   "id": "8ab3da72",
   "metadata": {},
   "outputs": [],
   "source": [
    "import pickle\n",
    "save_classifier = open(\"naive_bayes_model.pkl\", \"wb\")\n",
    "pickle.dump(classifier, save_classifier)\n",
    "save_classifier.close()"
   ]
  },
  {
   "cell_type": "code",
   "execution_count": 129,
   "id": "c992db07",
   "metadata": {},
   "outputs": [
    {
     "data": {
      "text/plain": [
       "['naive_bayes_model_2.pkl']"
      ]
     },
     "execution_count": 129,
     "metadata": {},
     "output_type": "execute_result"
    }
   ],
   "source": [
    "import joblib\n",
    "\n",
    "# save\n",
    "joblib.dump(classifier, \"naive_bayes_model_2.pkl\") "
   ]
  },
  {
   "cell_type": "code",
   "execution_count": 130,
   "id": "4506ab8f",
   "metadata": {},
   "outputs": [],
   "source": [
    "classifier_f = open(\"naive_bayes_model.pkl\", \"rb\")\n",
    "classifier = pickle.load(classifier_f)\n",
    "classifier_f.close()"
   ]
  },
  {
   "cell_type": "code",
   "execution_count": 164,
   "id": "99609077",
   "metadata": {},
   "outputs": [],
   "source": [
    "custom_review = \"I hated the restaurant. It was a disaster eating there. Poor service, arrogant waiters.\"\n",
    "# custom_review = \"I  love the restaurant. I love the food. I like the staff and their gesture toward customers\""
   ]
  },
  {
   "cell_type": "code",
   "execution_count": 165,
   "id": "9210085f",
   "metadata": {},
   "outputs": [
    {
     "data": {
      "text/plain": [
       "['I',\n",
       " 'hated',\n",
       " 'the',\n",
       " 'restaurant',\n",
       " 'It',\n",
       " 'was',\n",
       " 'a',\n",
       " 'disaster',\n",
       " 'eating',\n",
       " 'there',\n",
       " 'Poor',\n",
       " 'service',\n",
       " 'arrogant',\n",
       " 'waiters']"
      ]
     },
     "execution_count": 165,
     "metadata": {},
     "output_type": "execute_result"
    }
   ],
   "source": [
    "from nltk import word_tokenize\n",
    "import re\n",
    "\n",
    "custom_review = re.sub(r'[!\"#$%&\\'()*+,-./:;<=>?@\\[\\\\\\]^_`\\{|}~]','', custom_review)\n",
    "custom_review_tokens = word_tokenize(custom_review)\n",
    "custom_review_tokens"
   ]
  },
  {
   "cell_type": "code",
   "execution_count": 166,
   "id": "216e3ea8",
   "metadata": {},
   "outputs": [],
   "source": [
    "def document_features(tokens_):\n",
    "    word_filtered = [w.lower() for w in tokens_ if w not in stopwords]\n",
    "    featureset = search_features(word_filtered)\n",
    "    return featureset"
   ]
  },
  {
   "cell_type": "code",
   "execution_count": 167,
   "id": "426df3f9",
   "metadata": {},
   "outputs": [
    {
     "data": {
      "text/plain": [
       "{'film': False,\n",
       " 'one': False,\n",
       " 'movie': False,\n",
       " 'like': False,\n",
       " 'even': False,\n",
       " 'good': False,\n",
       " 'time': False,\n",
       " 'story': False,\n",
       " 'would': False,\n",
       " 'much': False,\n",
       " 'character': False,\n",
       " 'also': False,\n",
       " 'get': False,\n",
       " 'two': False,\n",
       " 'well': False,\n",
       " 'characters': False,\n",
       " 'first': False,\n",
       " 'see': False,\n",
       " 'way': False,\n",
       " 'make': False,\n",
       " 'life': False,\n",
       " 'really': False,\n",
       " 'films': False,\n",
       " 'plot': False,\n",
       " 'little': False,\n",
       " 'people': False,\n",
       " 'could': False,\n",
       " 'scene': False,\n",
       " 'bad': False,\n",
       " 'man': False,\n",
       " 'never': False,\n",
       " 'best': False,\n",
       " 'new': False,\n",
       " 'scenes': False,\n",
       " 'many': False,\n",
       " 'director': False,\n",
       " 'know': False,\n",
       " 'movies': False,\n",
       " 'action': False,\n",
       " 'great': False,\n",
       " 'another': False,\n",
       " 'love': False,\n",
       " 'go': False,\n",
       " 'made': False,\n",
       " 'us': False,\n",
       " 'big': False,\n",
       " 'end': False,\n",
       " 'something': False,\n",
       " 'back': False,\n",
       " 'still': False,\n",
       " 'world': False,\n",
       " 'seems': False,\n",
       " 'work': False,\n",
       " 'makes': False,\n",
       " 'however': False,\n",
       " 'every': False,\n",
       " 'though': False,\n",
       " 'better': False,\n",
       " 'real': False,\n",
       " 'audience': False,\n",
       " 'enough': False,\n",
       " 'seen': False,\n",
       " 'take': False,\n",
       " 'around': False,\n",
       " 'going': False,\n",
       " 'year': False,\n",
       " 'performance': False,\n",
       " 'role': False,\n",
       " 'old': False,\n",
       " 'gets': False,\n",
       " 'may': False,\n",
       " 'things': False,\n",
       " 'think': False,\n",
       " 'last': False,\n",
       " 'years': False,\n",
       " 'comedy': False,\n",
       " 'funny': False,\n",
       " 'actually': False,\n",
       " 'long': False,\n",
       " 'look': False,\n",
       " 'almost': False,\n",
       " 'thing': False,\n",
       " 'fact': False,\n",
       " 'nothing': False,\n",
       " 'say': False,\n",
       " 'john': False,\n",
       " 'right': False,\n",
       " 'although': False,\n",
       " 'played': False,\n",
       " 'find': False,\n",
       " 'come': False,\n",
       " 'script': False,\n",
       " 'ever': False,\n",
       " 'cast': False,\n",
       " 'since': False,\n",
       " 'star': False,\n",
       " 'plays': False,\n",
       " 'young': False,\n",
       " 'show': False,\n",
       " 'comes': False,\n",
       " 'part': False,\n",
       " 'original': False,\n",
       " 'actors': False,\n",
       " 'screen': False,\n",
       " 'without': False,\n",
       " 'acting': False,\n",
       " 'three': False,\n",
       " 'day': False,\n",
       " 'point': False,\n",
       " 'lot': False,\n",
       " 'least': False,\n",
       " 'takes': False,\n",
       " 'guy': False,\n",
       " 'quite': False,\n",
       " 'away': False,\n",
       " 'family': False,\n",
       " 'effects': False,\n",
       " 'course': False,\n",
       " 'goes': False,\n",
       " 'minutes': False,\n",
       " 'interesting': False,\n",
       " 'might': False,\n",
       " 'far': False,\n",
       " 'high': False,\n",
       " 'rather': False,\n",
       " 'must': False,\n",
       " 'anything': False,\n",
       " 'place': False,\n",
       " 'set': False,\n",
       " 'yet': False,\n",
       " 'watch': False,\n",
       " 'making': False,\n",
       " 'wife': False,\n",
       " 'hard': False,\n",
       " 'always': False,\n",
       " 'fun': False,\n",
       " 'seem': False,\n",
       " 'special': False,\n",
       " 'bit': False,\n",
       " 'times': False,\n",
       " 'trying': False,\n",
       " 'hollywood': False,\n",
       " 'instead': False,\n",
       " 'give': False,\n",
       " 'want': False,\n",
       " 'picture': False,\n",
       " 'kind': False,\n",
       " 'american': False,\n",
       " 'job': False,\n",
       " 'sense': False,\n",
       " 'woman': False,\n",
       " 'home': False,\n",
       " 'series': False,\n",
       " 'actor': False,\n",
       " 'probably': False,\n",
       " 'help': False,\n",
       " 'half': False,\n",
       " 'men': False,\n",
       " 'along': False,\n",
       " 'everything': False,\n",
       " 'pretty': False,\n",
       " 'becomes': False,\n",
       " 'sure': False,\n",
       " 'black': False,\n",
       " 'together': False,\n",
       " 'dialogue': False,\n",
       " 'money': False,\n",
       " 'become': False,\n",
       " 'gives': False,\n",
       " 'given': False,\n",
       " 'looking': False,\n",
       " 'whole': False,\n",
       " 'watching': False,\n",
       " 'father': False,\n",
       " 'got': False,\n",
       " 'feel': False,\n",
       " 'everyone': False,\n",
       " 'music': False,\n",
       " 'wants': False,\n",
       " 'sex': False,\n",
       " 'less': False,\n",
       " 'done': False,\n",
       " 'horror': False,\n",
       " 'death': False,\n",
       " 'perhaps': False,\n",
       " 'city': False,\n",
       " 'next': False,\n",
       " 'especially': False,\n",
       " 'play': False,\n",
       " 'mind': False,\n",
       " 'girl': False,\n",
       " '10': False,\n",
       " 'moments': False,\n",
       " 'looks': False,\n",
       " 'completely': False,\n",
       " '2': False,\n",
       " 'reason': False,\n",
       " 'mother': False,\n",
       " 'whose': False,\n",
       " 'line': False,\n",
       " 'night': False,\n",
       " 'human': False,\n",
       " 'rest': False,\n",
       " 'performances': False,\n",
       " 'different': False,\n",
       " 'evil': False,\n",
       " 'small': False,\n",
       " 'james': False,\n",
       " 'simply': False,\n",
       " 'couple': False,\n",
       " 'put': False,\n",
       " 'let': False,\n",
       " 'anyone': False,\n",
       " 'ending': False,\n",
       " 'case': False,\n",
       " 'dead': False,\n",
       " 'several': False,\n",
       " 'michael': False,\n",
       " 'left': False,\n",
       " 'thought': False,\n",
       " 'school': False,\n",
       " 'shows': False,\n",
       " 'humor': False,\n",
       " 'true': False,\n",
       " 'lost': False,\n",
       " 'written': False,\n",
       " 'friend': False,\n",
       " 'entire': False,\n",
       " 'getting': False,\n",
       " 'town': False,\n",
       " 'turns': False,\n",
       " 'soon': False,\n",
       " 'someone': False,\n",
       " 'second': False,\n",
       " 'main': False,\n",
       " 'stars': False,\n",
       " 'found': False,\n",
       " 'use': False,\n",
       " 'problem': False,\n",
       " 'friends': False,\n",
       " 'tv': False,\n",
       " 'top': False,\n",
       " 'name': False,\n",
       " 'begins': False,\n",
       " 'called': False,\n",
       " 'based': False,\n",
       " 'comic': False,\n",
       " 'david': False,\n",
       " 'head': False,\n",
       " 'else': False,\n",
       " 'idea': False,\n",
       " 'either': False,\n",
       " 'wrong': False,\n",
       " 'unfortunately': False,\n",
       " 'later': False,\n",
       " 'final': False,\n",
       " 'hand': False,\n",
       " 'house': False,\n",
       " 'alien': False,\n",
       " 'group': False,\n",
       " 'full': False,\n",
       " 'used': False,\n",
       " 'tries': False,\n",
       " 'often': False,\n",
       " 'war': False,\n",
       " 'sequence': False,\n",
       " 'keep': False,\n",
       " 'turn': False,\n",
       " 'playing': False,\n",
       " 'boy': False,\n",
       " 'live': False,\n",
       " 'behind': False,\n",
       " 'named': False,\n",
       " 'certainly': False,\n",
       " 'believe': False,\n",
       " 'works': False,\n",
       " 'relationship': False,\n",
       " 'face': False,\n",
       " 'hour': False,\n",
       " 'run': False,\n",
       " 'style': False,\n",
       " 'said': False,\n",
       " 'despite': False,\n",
       " 'person': False,\n",
       " 'finally': False,\n",
       " 'shot': False,\n",
       " 'book': False,\n",
       " 'tell': False,\n",
       " 'maybe': False,\n",
       " 'nice': False,\n",
       " 'son': False,\n",
       " 'perfect': False,\n",
       " 'side': False,\n",
       " 'seeing': False,\n",
       " 'able': False,\n",
       " 'children': False,\n",
       " 'finds': False,\n",
       " 'days': False,\n",
       " 'past': False,\n",
       " 'summer': False}"
      ]
     },
     "execution_count": 167,
     "metadata": {},
     "output_type": "execute_result"
    }
   ],
   "source": [
    "custom_review_set = document_features((custom_review_tokens))\n",
    "custom_review_set"
   ]
  },
  {
   "cell_type": "code",
   "execution_count": 168,
   "id": "55284851",
   "metadata": {},
   "outputs": [
    {
     "name": "stdout",
     "output_type": "stream",
     "text": [
      "neg\n"
     ]
    }
   ],
   "source": [
    "print(classifier.classify(custom_review_set))"
   ]
  },
  {
   "cell_type": "code",
   "execution_count": 170,
   "id": "2bc66afa",
   "metadata": {},
   "outputs": [
    {
     "name": "stdout",
     "output_type": "stream",
     "text": [
      "neg\n",
      "0.024027833029862212\n",
      "0.9759721669701329\n"
     ]
    }
   ],
   "source": [
    "prob_result = classifier.prob_classify(custom_review_set)\n",
    "print(prob_result.max())\n",
    "print(prob_result.prob('pos'))\n",
    "print(prob_result.prob('neg'))"
   ]
  },
  {
   "cell_type": "markdown",
   "id": "09402fac",
   "metadata": {},
   "source": [
    "# Using SVM"
   ]
  },
  {
   "cell_type": "code",
   "execution_count": 174,
   "id": "defe94ad",
   "metadata": {},
   "outputs": [
    {
     "name": "stderr",
     "output_type": "stream",
     "text": [
      "C:\\Users\\DELL\\AppData\\Roaming\\Python\\Python39\\site-packages\\sklearn\\svm\\_base.py:1225: ConvergenceWarning: Liblinear failed to converge, increase the number of iterations.\n",
      "  warnings.warn(\n"
     ]
    },
    {
     "data": {
      "text/plain": [
       "<SklearnClassifier(LinearSVC())>"
      ]
     },
     "execution_count": 174,
     "metadata": {},
     "output_type": "execute_result"
    }
   ],
   "source": [
    "from sklearn.svm import LinearSVC\n",
    "from nltk.classify.scikitlearn import SklearnClassifier\n",
    "\n",
    "classifier = SklearnClassifier(LinearSVC())\n",
    "classifier.train(training_set)"
   ]
  },
  {
   "cell_type": "code",
   "execution_count": 175,
   "id": "35b09fcf",
   "metadata": {},
   "outputs": [
    {
     "name": "stdout",
     "output_type": "stream",
     "text": [
      "classifier's accuracy is: 65.75\n"
     ]
    }
   ],
   "source": [
    "print(\"classifier's accuracy is: {}\". format(nltk.classify.accuracy(classifier, testing_set)*100))"
   ]
  },
  {
   "cell_type": "code",
   "execution_count": 176,
   "id": "d093fd07",
   "metadata": {},
   "outputs": [
    {
     "name": "stdout",
     "output_type": "stream",
     "text": [
      "classifier's accuracy in training set is: 85.5\n"
     ]
    }
   ],
   "source": [
    "print(\"classifier's accuracy in training set is: {}\". format(nltk.classify.accuracy(classifier, training_set)*100))"
   ]
  },
  {
   "cell_type": "code",
   "execution_count": null,
   "id": "1fb0428b",
   "metadata": {},
   "outputs": [],
   "source": []
  }
 ],
 "metadata": {
  "kernelspec": {
   "display_name": "Python 3 (ipykernel)",
   "language": "python",
   "name": "python3"
  },
  "language_info": {
   "codemirror_mode": {
    "name": "ipython",
    "version": 3
   },
   "file_extension": ".py",
   "mimetype": "text/x-python",
   "name": "python",
   "nbconvert_exporter": "python",
   "pygments_lexer": "ipython3",
   "version": "3.9.12"
  }
 },
 "nbformat": 4,
 "nbformat_minor": 5
}
