{
 "cells": [
  {
   "cell_type": "code",
   "execution_count": 3,
   "id": "41bf97fc",
   "metadata": {},
   "outputs": [],
   "source": [
    "#!pip install PyPDF2"
   ]
  },
  {
   "cell_type": "code",
   "execution_count": 4,
   "id": "c9585c14",
   "metadata": {},
   "outputs": [],
   "source": [
    "# !pip install textract"
   ]
  },
  {
   "cell_type": "code",
   "execution_count": 5,
   "id": "fa2b7fed",
   "metadata": {},
   "outputs": [],
   "source": [
    "# importing required modules\n",
    "import PyPDF2"
   ]
  },
  {
   "cell_type": "code",
   "execution_count": 6,
   "id": "557eca2c",
   "metadata": {},
   "outputs": [],
   "source": [
    "# creating a pdf file object\n",
    "pdfFileObj = open('Lorem_ipsum.pdf', 'rb')"
   ]
  },
  {
   "cell_type": "code",
   "execution_count": 7,
   "id": "294f829e",
   "metadata": {},
   "outputs": [],
   "source": [
    "# creating a pdf reader object\n",
    "pdfReader = PyPDF2.PdfReader(pdfFileObj)"
   ]
  },
  {
   "cell_type": "code",
   "execution_count": 8,
   "id": "2fa8856b",
   "metadata": {},
   "outputs": [
    {
     "name": "stdout",
     "output_type": "stream",
     "text": [
      "1\n"
     ]
    }
   ],
   "source": [
    "# printing number of pages in pdf file\n",
    "print(len(pdfReader.pages))"
   ]
  },
  {
   "cell_type": "code",
   "execution_count": 9,
   "id": "6dfafb47",
   "metadata": {},
   "outputs": [],
   "source": [
    "# creating a page object\n",
    "pageObj = pdfReader.pages[0]"
   ]
  },
  {
   "cell_type": "code",
   "execution_count": 10,
   "id": "76a2aaeb",
   "metadata": {},
   "outputs": [
    {
     "name": "stdout",
     "output_type": "stream",
     "text": [
      "Test PDF  \n",
      "Lorem Ipsum is simply dummy text of the printing and typesetting industry. Lorem Ipsum has been the \n",
      "industry's standard dummy text ever since the 1500s, when an unknown printer took a galley of type \n",
      "and scrambled it to make a type specimen book. It has sur vived not only five centuries, but also the leap \n",
      "into electronic typesetting, remaining essentially unchanged. It was popularised in the 1960s with the \n",
      "release of Letraset sheets containing Lorem Ipsum passages, and more recently with desktop publishing \n",
      "software like Aldus PageMaker including versions of Lorem Ipsum.  \n",
      "Lorem Ipsum is simply dummy text of the printing and typesetting industry. Lorem Ipsum has been the \n",
      "industry's standard dummy text ever since the 1500s, when an unknown printer took a galley of type \n",
      "and scrambled it to make a type specimen book. It has survived not only five centuries, but also the leap \n",
      "into electronic typesetting, remaining essentially unchanged. It was popularised in the 1960s with the \n",
      "release of Letraset sheets containing Lore m Ipsum passages, and more recently with desktop publishing \n",
      "software like Aldus PageMaker including versions of Lorem Ipsum.  \n",
      "Lorem Ipsum is simply dummy text of the printing and typesetting industry. Lorem Ipsum has been the \n",
      "industry's standard dummy text e ver since the 1500s, when an unknown printer took a galley of type \n",
      "and scrambled it to make a type specimen book. It has survived not only five centuries, but also the leap \n",
      "into electronic typesetting, remaining essentially unchanged. It was popularised in  the 1960s with the \n",
      "release of Letraset sheets containing Lorem Ipsum passages, and more recently with desktop publishing \n",
      "software like Aldus PageMaker including versions of Lorem Ipsum.  \n",
      "Lorem Ipsum is simply dummy text of the printing and typesetting indus try. Lorem Ipsum has been the \n",
      "industry's standard dummy text ever since the 1500s, when an unknown printer took a galley of type \n",
      "and scrambled it to make a type specimen book. It has survived not only five centuries, but also the leap \n",
      "into electronic types etting, remaining essentially unchanged. It was popularised in the 1960s with the \n",
      "release of Letraset sheets containing Lorem Ipsum passages, and more recently with desktop publishing \n",
      "software like Aldus PageMaker including versions of Lorem Ipsum.  \n"
     ]
    }
   ],
   "source": [
    "# extracting text from page\n",
    "print(pageObj.extract_text())"
   ]
  },
  {
   "cell_type": "code",
   "execution_count": 11,
   "id": "003bf2d3",
   "metadata": {},
   "outputs": [],
   "source": [
    "# pdfFileObj.close()"
   ]
  },
  {
   "cell_type": "code",
   "execution_count": 12,
   "id": "11017175",
   "metadata": {},
   "outputs": [
    {
     "name": "stdout",
     "output_type": "stream",
     "text": [
      "Test PDF  \n",
      "Lorem Ipsum is simply dummy text of the printing and typesetting industry. Lorem Ipsum has been the \n",
      "industry's standard dummy text ever since the 1500s, when an unknown printer took a galley of type \n",
      "and scrambled it to make a type specimen book. It has sur vived not only five centuries, but also the leap \n",
      "into electronic typesetting, remaining essentially unchanged. It was popularised in the 1960s with the \n",
      "release of Letraset sheets containing Lorem Ipsum passages, and more recently with desktop publishing \n",
      "software like Aldus PageMaker including versions of Lorem Ipsum.  \n",
      "Lorem Ipsum is simply dummy text of the printing and typesetting industry. Lorem Ipsum has been the \n",
      "industry's standard dummy text ever since the 1500s, when an unknown printer took a galley of type \n",
      "and scrambled it to make a type specimen book. It has survived not only five centuries, but also the leap \n",
      "into electronic typesetting, remaining essentially unchanged. It was popularised in the 1960s with the \n",
      "release of Letraset sheets containing Lore m Ipsum passages, and more recently with desktop publishing \n",
      "software like Aldus PageMaker including versions of Lorem Ipsum.  \n",
      "Lorem Ipsum is simply dummy text of the printing and typesetting industry. Lorem Ipsum has been the \n",
      "industry's standard dummy text e ver since the 1500s, when an unknown printer took a galley of type \n",
      "and scrambled it to make a type specimen book. It has survived not only five centuries, but also the leap \n",
      "into electronic typesetting, remaining essentially unchanged. It was popularised in  the 1960s with the \n",
      "release of Letraset sheets containing Lorem Ipsum passages, and more recently with desktop publishing \n",
      "software like Aldus PageMaker including versions of Lorem Ipsum.  \n",
      "Lorem Ipsum is simply dummy text of the printing and typesetting indus try. Lorem Ipsum has been the \n",
      "industry's standard dummy text ever since the 1500s, when an unknown printer took a galley of type \n",
      "and scrambled it to make a type specimen book. It has survived not only five centuries, but also the leap \n",
      "into electronic types etting, remaining essentially unchanged. It was popularised in the 1960s with the \n",
      "release of Letraset sheets containing Lorem Ipsum passages, and more recently with desktop publishing \n",
      "software like Aldus PageMaker including versions of Lorem Ipsum.  \n"
     ]
    }
   ],
   "source": [
    "c = 0\n",
    "text = \"\"\n",
    "while c < len(pdfReader.pages):\n",
    "    pageObj = pdfReader.pages[c]\n",
    "    c += 1\n",
    "    text += pageObj.extract_text()\n",
    "print(text)"
   ]
  },
  {
   "cell_type": "markdown",
   "id": "f708339e",
   "metadata": {},
   "source": [
    "# Writing to pdf files"
   ]
  },
  {
   "cell_type": "code",
   "execution_count": 16,
   "id": "76a90b93",
   "metadata": {},
   "outputs": [],
   "source": [
    "page_one = pdfReader.pages[0]"
   ]
  },
  {
   "cell_type": "code",
   "execution_count": 18,
   "id": "6cd8dab1",
   "metadata": {},
   "outputs": [],
   "source": [
    "pdf_document_writer = PyPDF2.PdfWriter()"
   ]
  },
  {
   "cell_type": "code",
   "execution_count": 20,
   "id": "c1fe689c",
   "metadata": {},
   "outputs": [
    {
     "data": {
      "text/plain": [
       "{'/Type': '/Page',\n",
       " '/Resources': {'/Font': {'/F1': {'/Type': '/Font',\n",
       "    '/Subtype': '/TrueType',\n",
       "    '/Name': '/F1',\n",
       "    '/BaseFont': '/ABCDEE+Calibri',\n",
       "    '/Encoding': '/WinAnsiEncoding',\n",
       "    '/FontDescriptor': {'/Type': '/FontDescriptor',\n",
       "     '/FontName': '/ABCDEE+Calibri',\n",
       "     '/Flags': 32,\n",
       "     '/ItalicAngle': 0,\n",
       "     '/Ascent': 750,\n",
       "     '/Descent': -250,\n",
       "     '/CapHeight': 750,\n",
       "     '/AvgWidth': 503,\n",
       "     '/MaxWidth': 1690,\n",
       "     '/FontWeight': 400,\n",
       "     '/XHeight': 250,\n",
       "     '/StemV': 50,\n",
       "     '/FontBBox': [-476, -250, 1214, 750],\n",
       "     '/FontFile2': {'/Filter': '/FlateDecode', '/Length1': 124424}},\n",
       "    '/FirstChar': 32,\n",
       "    '/LastChar': 121,\n",
       "    '/Widths': [226,\n",
       "     0,\n",
       "     0,\n",
       "     0,\n",
       "     0,\n",
       "     0,\n",
       "     0,\n",
       "     221,\n",
       "     0,\n",
       "     0,\n",
       "     0,\n",
       "     0,\n",
       "     250,\n",
       "     0,\n",
       "     252,\n",
       "     0,\n",
       "     507,\n",
       "     507,\n",
       "     0,\n",
       "     0,\n",
       "     0,\n",
       "     507,\n",
       "     507,\n",
       "     0,\n",
       "     0,\n",
       "     507,\n",
       "     0,\n",
       "     0,\n",
       "     0,\n",
       "     0,\n",
       "     0,\n",
       "     0,\n",
       "     0,\n",
       "     579,\n",
       "     0,\n",
       "     0,\n",
       "     615,\n",
       "     0,\n",
       "     459,\n",
       "     0,\n",
       "     0,\n",
       "     252,\n",
       "     0,\n",
       "     0,\n",
       "     420,\n",
       "     855,\n",
       "     0,\n",
       "     0,\n",
       "     517,\n",
       "     0,\n",
       "     0,\n",
       "     0,\n",
       "     487,\n",
       "     0,\n",
       "     0,\n",
       "     0,\n",
       "     0,\n",
       "     0,\n",
       "     0,\n",
       "     0,\n",
       "     0,\n",
       "     0,\n",
       "     0,\n",
       "     0,\n",
       "     0,\n",
       "     479,\n",
       "     525,\n",
       "     423,\n",
       "     525,\n",
       "     498,\n",
       "     305,\n",
       "     471,\n",
       "     525,\n",
       "     230,\n",
       "     0,\n",
       "     455,\n",
       "     230,\n",
       "     799,\n",
       "     525,\n",
       "     527,\n",
       "     525,\n",
       "     0,\n",
       "     349,\n",
       "     391,\n",
       "     335,\n",
       "     525,\n",
       "     452,\n",
       "     715,\n",
       "     433,\n",
       "     453]}},\n",
       "  '/ProcSet': ['/PDF', '/Text', '/ImageB', '/ImageC', '/ImageI']},\n",
       " '/MediaBox': [0, 0, 612, 792],\n",
       " '/Contents': {'/Filter': '/FlateDecode'},\n",
       " '/Group': {'/Type': '/Group', '/S': '/Transparency', '/CS': '/DeviceRGB'},\n",
       " '/Tabs': '/S',\n",
       " '/Parent': {'/Type': '/Pages',\n",
       "  '/Count': 1,\n",
       "  '/Kids': [IndirectObject(4, 0, 2882034179136)]}}"
      ]
     },
     "execution_count": 20,
     "metadata": {},
     "output_type": "execute_result"
    }
   ],
   "source": [
    "pdf_document_writer.add_page(page_one)"
   ]
  },
  {
   "cell_type": "code",
   "execution_count": 21,
   "id": "e43089d7",
   "metadata": {},
   "outputs": [],
   "source": [
    "pdf_output = open(\"new_file.pdf\", \"wb\")"
   ]
  },
  {
   "cell_type": "code",
   "execution_count": 22,
   "id": "86bcf410",
   "metadata": {},
   "outputs": [
    {
     "data": {
      "text/plain": [
       "(False, <_io.BufferedWriter name='new_file.pdf'>)"
      ]
     },
     "execution_count": 22,
     "metadata": {},
     "output_type": "execute_result"
    }
   ],
   "source": [
    "pdf_document_writer.write(pdf_output)"
   ]
  },
  {
   "cell_type": "code",
   "execution_count": 23,
   "id": "525260d2",
   "metadata": {},
   "outputs": [],
   "source": [
    "pdfFileObj.close()\n",
    "pdf_document_writer.close()\n",
    "pdf_output.close()"
   ]
  },
  {
   "cell_type": "markdown",
   "id": "f30ec587",
   "metadata": {},
   "source": [
    "# Merger of PDFs"
   ]
  },
  {
   "cell_type": "code",
   "execution_count": 24,
   "id": "baf87ad5",
   "metadata": {},
   "outputs": [],
   "source": [
    "def merge_PDF(pdfs, output):\n",
    "    pdfMerger = PyPDF2.PdfMerger()\n",
    "    \n",
    "    for pdf in pdfs:\n",
    "        pdfMerger.append(pdf)\n",
    "        \n",
    "    with open(output, 'wb') as f:\n",
    "        pdfMerger.write(f)"
   ]
  },
  {
   "cell_type": "code",
   "execution_count": 25,
   "id": "e587ea8e",
   "metadata": {},
   "outputs": [],
   "source": [
    "pdfs = ['Lorem_ipsum.pdf', 'new_file.pdf']\n",
    "\n",
    "output = 'combinedPDF.pdf'\n",
    "\n",
    "merge_PDF(pdfs, output)"
   ]
  },
  {
   "cell_type": "markdown",
   "id": "aeedccd8",
   "metadata": {},
   "source": [
    "# Importing dataset"
   ]
  },
  {
   "cell_type": "code",
   "execution_count": null,
   "id": "734955d7",
   "metadata": {},
   "outputs": [],
   "source": []
  }
 ],
 "metadata": {
  "kernelspec": {
   "display_name": "Python 3 (ipykernel)",
   "language": "python",
   "name": "python3"
  },
  "language_info": {
   "codemirror_mode": {
    "name": "ipython",
    "version": 3
   },
   "file_extension": ".py",
   "mimetype": "text/x-python",
   "name": "python",
   "nbconvert_exporter": "python",
   "pygments_lexer": "ipython3",
   "version": "3.9.12"
  }
 },
 "nbformat": 4,
 "nbformat_minor": 5
}
