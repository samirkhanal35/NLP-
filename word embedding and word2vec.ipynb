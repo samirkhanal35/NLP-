{
 "cells": [
  {
   "cell_type": "code",
   "execution_count": 1,
   "id": "4adaa236",
   "metadata": {},
   "outputs": [],
   "source": [
    "from nltk import sent_tokenize, word_tokenize"
   ]
  },
  {
   "cell_type": "code",
   "execution_count": 62,
   "id": "a770ccb4",
   "metadata": {},
   "outputs": [],
   "source": [
    "text = \"This is our first sentence. This is the second one. And one more.\""
   ]
  },
  {
   "cell_type": "code",
   "execution_count": 63,
   "id": "77ae5e6b",
   "metadata": {},
   "outputs": [],
   "source": [
    "sentences = sent_tokenize(text)"
   ]
  },
  {
   "cell_type": "code",
   "execution_count": 64,
   "id": "ade8fc30",
   "metadata": {},
   "outputs": [],
   "source": [
    "tokens = [word_tokenize(sentence) for sentence in sentences]"
   ]
  },
  {
   "cell_type": "code",
   "execution_count": 65,
   "id": "aeba4269",
   "metadata": {},
   "outputs": [
    {
     "data": {
      "text/plain": [
       "[['This', 'is', 'our', 'first', 'sentence', '.'],\n",
       " ['This', 'is', 'the', 'second', 'one', '.'],\n",
       " ['And', 'one', 'more', '.']]"
      ]
     },
     "execution_count": 65,
     "metadata": {},
     "output_type": "execute_result"
    }
   ],
   "source": [
    "tokens"
   ]
  },
  {
   "cell_type": "code",
   "execution_count": 66,
   "id": "35bf153b",
   "metadata": {},
   "outputs": [],
   "source": [
    "# !pip install gensim\n",
    "from gensim.models import Word2Vec"
   ]
  },
  {
   "cell_type": "code",
   "execution_count": 67,
   "id": "0b59e773",
   "metadata": {},
   "outputs": [],
   "source": [
    "model = Word2Vec(tokens, min_count=1, vector_size=50)"
   ]
  },
  {
   "cell_type": "code",
   "execution_count": 68,
   "id": "c355153b",
   "metadata": {},
   "outputs": [
    {
     "data": {
      "text/plain": [
       "<gensim.models.word2vec.Word2Vec at 0x2646be34400>"
      ]
     },
     "execution_count": 68,
     "metadata": {},
     "output_type": "execute_result"
    }
   ],
   "source": [
    "model"
   ]
  },
  {
   "cell_type": "code",
   "execution_count": 69,
   "id": "76411b94",
   "metadata": {},
   "outputs": [
    {
     "data": {
      "text/plain": [
       "<gensim.models.word2vec.Word2Vec at 0x2646be34c40>"
      ]
     },
     "execution_count": 69,
     "metadata": {},
     "output_type": "execute_result"
    }
   ],
   "source": [
    "Word2Vec(max_vocab_size=11, vector_size=50, alpha=0.025)"
   ]
  },
  {
   "cell_type": "code",
   "execution_count": 70,
   "id": "d5ae5e6e",
   "metadata": {},
   "outputs": [
    {
     "data": {
      "text/plain": [
       "['.',\n",
       " 'one',\n",
       " 'is',\n",
       " 'This',\n",
       " 'more',\n",
       " 'And',\n",
       " 'second',\n",
       " 'the',\n",
       " 'sentence',\n",
       " 'first',\n",
       " 'our']"
      ]
     },
     "execution_count": 70,
     "metadata": {},
     "output_type": "execute_result"
    }
   ],
   "source": [
    "words = list(model.wv.index_to_key)\n",
    "words"
   ]
  },
  {
   "cell_type": "code",
   "execution_count": 71,
   "id": "18add4b9",
   "metadata": {},
   "outputs": [
    {
     "data": {
      "text/plain": [
       "array([-0.01427881,  0.0024822 , -0.01435422, -0.00448948,  0.00743901,\n",
       "        0.01166689,  0.0023965 ,  0.00420569, -0.00822123,  0.01445146,\n",
       "       -0.01261478,  0.00929494, -0.01644085,  0.00407316, -0.00995465,\n",
       "       -0.00849584, -0.00621831,  0.01131104,  0.01159743, -0.00994984,\n",
       "        0.00154674, -0.01699249,  0.01562047,  0.0185156 , -0.00548496,\n",
       "        0.00160053,  0.00149338,  0.01095637, -0.0172131 ,  0.00116897,\n",
       "        0.0137396 ,  0.00446343,  0.00224947, -0.01864534,  0.01696566,\n",
       "       -0.01252894, -0.00598508,  0.00698795, -0.00154534,  0.00282274,\n",
       "        0.00356418, -0.01365855, -0.01945069,  0.01808216,  0.01239679,\n",
       "       -0.01382661,  0.00680734,  0.00041215,  0.00950801, -0.01424067],\n",
       "      dtype=float32)"
      ]
     },
     "execution_count": 71,
     "metadata": {},
     "output_type": "execute_result"
    }
   ],
   "source": [
    "model.wv['sentence']"
   ]
  },
  {
   "cell_type": "code",
   "execution_count": 72,
   "id": "6f1da9ac",
   "metadata": {},
   "outputs": [],
   "source": [
    "model.save(\"model.bin\")"
   ]
  },
  {
   "cell_type": "code",
   "execution_count": 73,
   "id": "a4cf3793",
   "metadata": {},
   "outputs": [],
   "source": [
    "new_model = Word2Vec.load(\"model.bin\")"
   ]
  },
  {
   "cell_type": "code",
   "execution_count": 74,
   "id": "f3a5889c",
   "metadata": {},
   "outputs": [
    {
     "name": "stdout",
     "output_type": "stream",
     "text": [
      "Word2Vec(vocab=11, vector_size=50, alpha=0.025)\n"
     ]
    }
   ],
   "source": [
    "print(new_model)"
   ]
  }
 ],
 "metadata": {
  "kernelspec": {
   "display_name": "Python 3 (ipykernel)",
   "language": "python",
   "name": "python3"
  },
  "language_info": {
   "codemirror_mode": {
    "name": "ipython",
    "version": 3
   },
   "file_extension": ".py",
   "mimetype": "text/x-python",
   "name": "python",
   "nbconvert_exporter": "python",
   "pygments_lexer": "ipython3",
   "version": "3.9.12"
  }
 },
 "nbformat": 4,
 "nbformat_minor": 5
}
