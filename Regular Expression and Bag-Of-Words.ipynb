{
 "cells": [
  {
   "cell_type": "code",
   "execution_count": 11,
   "id": "ee32a397",
   "metadata": {},
   "outputs": [],
   "source": [
    "import re"
   ]
  },
  {
   "cell_type": "code",
   "execution_count": 12,
   "id": "f7dab4da",
   "metadata": {},
   "outputs": [],
   "source": [
    "tweet = 'Hello guys, this is my first #tweet. Check this @joy! #nlp #machine  #learning'"
   ]
  },
  {
   "cell_type": "code",
   "execution_count": 13,
   "id": "6e18c87b",
   "metadata": {},
   "outputs": [
    {
     "data": {
      "text/plain": [
       "str"
      ]
     },
     "execution_count": 13,
     "metadata": {},
     "output_type": "execute_result"
    }
   ],
   "source": [
    "type(tweet)"
   ]
  },
  {
   "cell_type": "code",
   "execution_count": 14,
   "id": "37f857ea",
   "metadata": {},
   "outputs": [
    {
     "data": {
      "text/plain": [
       "['#', '#', '#', '#']"
      ]
     },
     "execution_count": 14,
     "metadata": {},
     "output_type": "execute_result"
    }
   ],
   "source": [
    "re.findall('#', tweet)"
   ]
  },
  {
   "cell_type": "code",
   "execution_count": 15,
   "id": "cb3d4c74",
   "metadata": {},
   "outputs": [
    {
     "data": {
      "text/plain": [
       "list"
      ]
     },
     "execution_count": 15,
     "metadata": {},
     "output_type": "execute_result"
    }
   ],
   "source": [
    "type(re.findall('#', tweet))"
   ]
  },
  {
   "cell_type": "code",
   "execution_count": 16,
   "id": "693e0011",
   "metadata": {},
   "outputs": [
    {
     "data": {
      "text/plain": [
       "4"
      ]
     },
     "execution_count": 16,
     "metadata": {},
     "output_type": "execute_result"
    }
   ],
   "source": [
    "len(re.findall('#', tweet))"
   ]
  },
  {
   "cell_type": "code",
   "execution_count": 17,
   "id": "7105bd75",
   "metadata": {},
   "outputs": [
    {
     "data": {
      "text/plain": [
       "'Hello guys, this is my first _tweet. Check this @joy! _nlp _machine  _learning'"
      ]
     },
     "execution_count": 17,
     "metadata": {},
     "output_type": "execute_result"
    }
   ],
   "source": [
    "re.sub('#', '_', tweet)"
   ]
  },
  {
   "cell_type": "markdown",
   "id": "d144060d",
   "metadata": {},
   "source": [
    "# \\A"
   ]
  },
  {
   "cell_type": "code",
   "execution_count": 21,
   "id": "599c2eb2",
   "metadata": {},
   "outputs": [
    {
     "data": {
      "text/plain": [
       "['The']"
      ]
     },
     "execution_count": 21,
     "metadata": {},
     "output_type": "execute_result"
    }
   ],
   "source": [
    "text = \"The categorical cat hello mycat\"\n",
    "re.findall(r'\\AThe', text) # Starting of string"
   ]
  },
  {
   "cell_type": "code",
   "execution_count": 22,
   "id": "ca4fa981",
   "metadata": {},
   "outputs": [
    {
     "data": {
      "text/plain": [
       "[]"
      ]
     },
     "execution_count": 22,
     "metadata": {},
     "output_type": "execute_result"
    }
   ],
   "source": [
    "text1 = \"categorical cat hello mycat\"\n",
    "re.findall(r'\\AThe', text1)"
   ]
  },
  {
   "cell_type": "markdown",
   "id": "83aa5c0a",
   "metadata": {},
   "source": [
    "# \\b"
   ]
  },
  {
   "cell_type": "code",
   "execution_count": 23,
   "id": "04c12f9a",
   "metadata": {},
   "outputs": [
    {
     "data": {
      "text/plain": [
       "['cat', 'cat']"
      ]
     },
     "execution_count": 23,
     "metadata": {},
     "output_type": "execute_result"
    }
   ],
   "source": [
    "re.findall(r'\\bcat', text) # Starting"
   ]
  },
  {
   "cell_type": "code",
   "execution_count": 24,
   "id": "b9fddc23",
   "metadata": {},
   "outputs": [
    {
     "data": {
      "text/plain": [
       "['cat', 'cat']"
      ]
     },
     "execution_count": 24,
     "metadata": {},
     "output_type": "execute_result"
    }
   ],
   "source": [
    "re.findall(r'cat\\b', text) #Ending "
   ]
  },
  {
   "cell_type": "code",
   "execution_count": 25,
   "id": "7bdcd8a5",
   "metadata": {},
   "outputs": [
    {
     "data": {
      "text/plain": [
       "['cat']"
      ]
     },
     "execution_count": 25,
     "metadata": {},
     "output_type": "execute_result"
    }
   ],
   "source": [
    "text1 = \"categorical cat hello my\"\n",
    "re.findall(r'cat\\b', text1) #Ending "
   ]
  },
  {
   "cell_type": "code",
   "execution_count": 30,
   "id": "aa6bd14d",
   "metadata": {},
   "outputs": [
    {
     "name": "stdout",
     "output_type": "stream",
     "text": [
      "Starting with cat: [1, 2] Ending with cat: [2, 4]\n"
     ]
    }
   ],
   "source": [
    "def get_starting_ending_indexes(inp_str: str) -> list:\n",
    "    starting_indexes = []\n",
    "    ending_indexes = []\n",
    "    for index, word in enumerate(inp_str.split()):\n",
    "        if re.findall(r'\\bcat', word): starting_indexes.append(index)\n",
    "        if re.findall(r'cat\\b', word): ending_indexes.append(index)\n",
    "    return starting_indexes, ending_indexes\n",
    "\n",
    "\n",
    "a, b = get_starting_ending_indexes(text)\n",
    "print(\"Starting with cat:\",a,\"Ending with cat:\", b)"
   ]
  },
  {
   "cell_type": "code",
   "execution_count": 36,
   "id": "9dad73bb",
   "metadata": {},
   "outputs": [
    {
     "name": "stdout",
     "output_type": "stream",
     "text": [
      "4 7\n",
      "16 19\n",
      "28 31\n"
     ]
    }
   ],
   "source": [
    "for match in re.finditer('cat', text):\n",
    "    s = match.start()\n",
    "    e = match.end()\n",
    "    print( s, e)"
   ]
  },
  {
   "cell_type": "code",
   "execution_count": 37,
   "id": "6c1a8f15",
   "metadata": {},
   "outputs": [
    {
     "data": {
      "text/plain": [
       "['cat']"
      ]
     },
     "execution_count": 37,
     "metadata": {},
     "output_type": "execute_result"
    }
   ],
   "source": [
    "re.findall(r'\\bcat\\b', text) "
   ]
  },
  {
   "cell_type": "markdown",
   "id": "436642a3",
   "metadata": {},
   "source": [
    "# \\B => kind of negation of \\b"
   ]
  },
  {
   "cell_type": "code",
   "execution_count": 38,
   "id": "93cfddbd",
   "metadata": {},
   "outputs": [],
   "source": [
    "text2 = 'This is an amazing classroom, every one speaks ENGLISH zigkjgkj!!'"
   ]
  },
  {
   "cell_type": "code",
   "execution_count": 41,
   "id": "12b0e185",
   "metadata": {},
   "outputs": [],
   "source": [
    "text1 = 'This is a good classroom, every one speaks ENGLISH zigkjgkj!!'"
   ]
  },
  {
   "cell_type": "code",
   "execution_count": 42,
   "id": "407245c7",
   "metadata": {},
   "outputs": [
    {
     "data": {
      "text/plain": [
       "['zi']"
      ]
     },
     "execution_count": 42,
     "metadata": {},
     "output_type": "execute_result"
    }
   ],
   "source": [
    "re.findall(r'\\Bzi', text2) # Return if not at the begining of the word"
   ]
  },
  {
   "cell_type": "code",
   "execution_count": 43,
   "id": "52d9e730",
   "metadata": {},
   "outputs": [
    {
     "data": {
      "text/plain": [
       "[]"
      ]
     },
     "execution_count": 43,
     "metadata": {},
     "output_type": "execute_result"
    }
   ],
   "source": [
    "re.findall(r'\\Bzi', text1)"
   ]
  },
  {
   "cell_type": "code",
   "execution_count": 44,
   "id": "aeb6f5c1",
   "metadata": {},
   "outputs": [
    {
     "data": {
      "text/plain": [
       "['class']"
      ]
     },
     "execution_count": 44,
     "metadata": {},
     "output_type": "execute_result"
    }
   ],
   "source": [
    "text2 = 'This is an amazing classroom, every one speaks ENGLISH. This is Highclass!!'\n",
    "re.findall(r'\\Bclass', text2)"
   ]
  },
  {
   "cell_type": "code",
   "execution_count": 45,
   "id": "7e44b1e7",
   "metadata": {},
   "outputs": [
    {
     "data": {
      "text/plain": [
       "[]"
      ]
     },
     "execution_count": 45,
     "metadata": {},
     "output_type": "execute_result"
    }
   ],
   "source": [
    "text2 = 'This is an amazing classroom, every one speaks ENGLISH. !!'\n",
    "re.findall(r'\\Bclass', text2)"
   ]
  },
  {
   "cell_type": "code",
   "execution_count": 46,
   "id": "afde25f6",
   "metadata": {},
   "outputs": [
    {
     "data": {
      "text/plain": [
       "['class', 'class']"
      ]
     },
     "execution_count": 46,
     "metadata": {},
     "output_type": "execute_result"
    }
   ],
   "source": [
    "text2 = 'This is an amazing classroom, every one speaks ENGLISH. classy!!'\n",
    "re.findall(r'class\\B', text2)"
   ]
  },
  {
   "cell_type": "code",
   "execution_count": 47,
   "id": "8ce98c2e",
   "metadata": {},
   "outputs": [
    {
     "data": {
      "text/plain": [
       "[]"
      ]
     },
     "execution_count": 47,
     "metadata": {},
     "output_type": "execute_result"
    }
   ],
   "source": [
    "text2 = 'This is an amazing classroom, every one speaks ENGLISH. classy!!'\n",
    "re.findall(r'\\Bclass\\B', text2)"
   ]
  },
  {
   "cell_type": "code",
   "execution_count": 48,
   "id": "a1fac9c5",
   "metadata": {},
   "outputs": [
    {
     "data": {
      "text/plain": [
       "['class']"
      ]
     },
     "execution_count": 48,
     "metadata": {},
     "output_type": "execute_result"
    }
   ],
   "source": [
    "text2 = 'This is an amazing myclassroom, every one speaks ENGLISH. classy!!'\n",
    "re.findall(r'\\Bclass\\B', text2)"
   ]
  },
  {
   "cell_type": "markdown",
   "id": "0a707ef0",
   "metadata": {},
   "source": [
    "# \\d"
   ]
  },
  {
   "cell_type": "code",
   "execution_count": 51,
   "id": "aaa70a10",
   "metadata": {},
   "outputs": [
    {
     "data": {
      "text/plain": [
       "['9', '5', '1', '2', '3']"
      ]
     },
     "execution_count": 51,
     "metadata": {},
     "output_type": "execute_result"
    }
   ],
   "source": [
    "text2 = 'This is an 9amazing 5classroom, every one speaks ENGLISH 123. classy !!'\n",
    "re.findall(r'\\d', text2) # returns all digits"
   ]
  },
  {
   "cell_type": "markdown",
   "id": "3e8e5b0e",
   "metadata": {},
   "source": [
    "# \\D"
   ]
  },
  {
   "cell_type": "code",
   "execution_count": 53,
   "id": "016404a8",
   "metadata": {},
   "outputs": [
    {
     "name": "stdout",
     "output_type": "stream",
     "text": [
      "['T', 'h', 'i', 's', ' ', 'i', 's', ' ', 'a', 'n', ' ', 'a', 'm', 'a', 'z', 'i', 'n', 'g', ' ', 'c', 'l', 'a', 's', 's', 'r', 'o', 'o', 'm', ',', ' ', 'e', 'v', 'e', 'r', 'y', ' ', 'o', 'n', 'e', ' ', 's', 'p', 'e', 'a', 'k', 's', ' ', 'E', 'N', 'G', 'L', 'I', 'S', 'H', ' ', '.', ' ', 'c', 'l', 'a', 's', 's', 'y', ' ', '!', '!']\n"
     ]
    }
   ],
   "source": [
    "text2 = 'This is an 9amazing 5classroom, every one speaks ENGLISH 123. classy !!'\n",
    "print(re.findall(r'\\D', text2)) # returns all non digits"
   ]
  },
  {
   "cell_type": "markdown",
   "id": "4feddaf0",
   "metadata": {},
   "source": [
    "# count the number of white spaces"
   ]
  },
  {
   "cell_type": "code",
   "execution_count": 55,
   "id": "88307be9",
   "metadata": {},
   "outputs": [
    {
     "name": "stdout",
     "output_type": "stream",
     "text": [
      "11\n"
     ]
    }
   ],
   "source": [
    "count = 0\n",
    "for t in text2:\n",
    "    if t ==' ': \n",
    "        count+=1\n",
    "\n",
    "print(count)"
   ]
  },
  {
   "cell_type": "markdown",
   "id": "695da705",
   "metadata": {},
   "source": [
    "# /s"
   ]
  },
  {
   "cell_type": "code",
   "execution_count": 60,
   "id": "dde550a6",
   "metadata": {},
   "outputs": [
    {
     "name": "stdout",
     "output_type": "stream",
     "text": [
      "[' ', ' ', ' ', ' ', ' ', ' ', ' ', ' ', ' ', ' ', ' ']\n",
      "11\n",
      "11\n"
     ]
    }
   ],
   "source": [
    "text2 = 'This is an 9amazing 5classroom, every one speaks ENGLISH 123. classy !!'\n",
    "print(re.findall(r'\\s', text2)) # returns all the spaces\n",
    "print(len(re.findall(r'\\s', text2)))\n",
    "print(len(re.findall(' ', text2)))"
   ]
  },
  {
   "cell_type": "markdown",
   "id": "6562fab5",
   "metadata": {},
   "source": [
    "# /S"
   ]
  },
  {
   "cell_type": "code",
   "execution_count": 61,
   "id": "d35ac293",
   "metadata": {},
   "outputs": [
    {
     "name": "stdout",
     "output_type": "stream",
     "text": [
      "['T', 'h', 'i', 's', 'i', 's', 'a', 'n', '9', 'a', 'm', 'a', 'z', 'i', 'n', 'g', '5', 'c', 'l', 'a', 's', 's', 'r', 'o', 'o', 'm', ',', 'e', 'v', 'e', 'r', 'y', 'o', 'n', 'e', 's', 'p', 'e', 'a', 'k', 's', 'E', 'N', 'G', 'L', 'I', 'S', 'H', '1', '2', '3', '.', 'c', 'l', 'a', 's', 's', 'y', '!', '!']\n",
      "60\n"
     ]
    }
   ],
   "source": [
    "text2 = 'This is an 9amazing 5classroom, every one speaks ENGLISH 123. classy !!'\n",
    "print(re.findall(r'\\S', text2)) # returns all letters that are not white space\n",
    "print(len(re.findall(r'\\S', text2)))"
   ]
  },
  {
   "cell_type": "markdown",
   "id": "b58af917",
   "metadata": {},
   "source": [
    "# \\w"
   ]
  },
  {
   "cell_type": "code",
   "execution_count": 75,
   "id": "b7dfb95d",
   "metadata": {
    "scrolled": true
   },
   "outputs": [
    {
     "name": "stdout",
     "output_type": "stream",
     "text": [
      "['T', 'h', 'i', 's', 'i', 's', 'a', 'n', '9', 'a', 'm', 'a', 'z', 'i', 'n', 'g', '5', 'c', 'l', 'a', 's', 's', '_', 'r', 'o', 'o', 'm', 'e', 'v', 'e', 'r', 'y', 'o', 'n', 'e', 's', 'p', 'e', 'a', 'k', 's', 'E', 'N', 'G', 'L', 'I', 'S', 'H', '1', '2', '3', 'c', 'l', 'a', 's', 's', 'y', '_']\n",
      "58\n"
     ]
    }
   ],
   "source": [
    "text2 = 'This is an 9ama-zing 5class_room, every one speaks ENGLISH 123. classy !! !@#$%^&*()_+=-'\n",
    "print(re.findall(r'\\w', text2)) # return all without punctuations(. and , and !) and spaces\n",
    "print(len(re.findall(r'\\w', text2)))"
   ]
  },
  {
   "cell_type": "markdown",
   "id": "7b63d497",
   "metadata": {},
   "source": [
    "# \\W"
   ]
  },
  {
   "cell_type": "code",
   "execution_count": 76,
   "id": "6e593c7a",
   "metadata": {},
   "outputs": [
    {
     "name": "stdout",
     "output_type": "stream",
     "text": [
      "[' ', ' ', ' ', '-', ' ', ',', ' ', ' ', ' ', ' ', ' ', '.', ' ', ' ', '!', '!', ' ', '!', '@', '#', '$', '%', '^', '&', '*', '(', ')', '+', '=', '-']\n",
      "30\n"
     ]
    }
   ],
   "source": [
    "text2 = 'This is an 9ama-zing 5class_room, every one speaks ENGLISH 123. classy !! !@#$%^&*()_+=-'\n",
    "print(re.findall(r'\\W', text2)) # returns punctuations (. and , and !) and white spaces\n",
    "print(len(re.findall(r'\\W', text2)))"
   ]
  },
  {
   "cell_type": "markdown",
   "id": "5f225acc",
   "metadata": {},
   "source": [
    "# \\Z"
   ]
  },
  {
   "cell_type": "code",
   "execution_count": 79,
   "id": "137136c2",
   "metadata": {},
   "outputs": [
    {
     "name": "stdout",
     "output_type": "stream",
     "text": [
      "['classy']\n",
      "1\n"
     ]
    }
   ],
   "source": [
    "text2 = 'This is an 9ama-zing 5class_room, every one speaks ENGLISH 123. classy'\n",
    "print(re.findall(r'classy\\Z', text2)) # End of string\n",
    "print(len(re.findall(r'classy\\Z', text2)))"
   ]
  },
  {
   "cell_type": "markdown",
   "id": "5ea46975",
   "metadata": {},
   "source": [
    "# Special Sequences"
   ]
  },
  {
   "cell_type": "markdown",
   "id": "f647002b",
   "metadata": {},
   "source": [
    "# '[a-m]'"
   ]
  },
  {
   "cell_type": "code",
   "execution_count": 81,
   "id": "3c6f4d4b",
   "metadata": {},
   "outputs": [
    {
     "name": "stdout",
     "output_type": "stream",
     "text": [
      "['h', 'i', 's', 'i', 's', 'a', 'n', 'a', 'm', 'a', 'z', 'i', 'n', 'g', 'c', 'l', 'a', 's', 's', 'r', 'o', 'o', 'm', 'e', 'v', 'e', 'r', 'y', 'o', 'n', 'e', 's', 'p', 'e', 'a', 'k', 's', 'c', 'l', 'a', 's', 's', 'y']\n",
      "43\n"
     ]
    }
   ],
   "source": [
    "text2 = 'This is an 9ama-zing 5class_room, every one speaks ENGLISH 123. classy'\n",
    "print(re.findall(r'[a-z]', text2))\n",
    "print(len(re.findall(r'[a-z]', text2)))"
   ]
  },
  {
   "cell_type": "code",
   "execution_count": 82,
   "id": "077b799b",
   "metadata": {},
   "outputs": [
    {
     "name": "stdout",
     "output_type": "stream",
     "text": [
      "['n', 'm', 'n', 'o', 'o', 'm', 'o', 'n', 'p']\n",
      "9\n"
     ]
    }
   ],
   "source": [
    "text2 = 'This is an 9ama-zing 5class_room, every one speaks ENGLISH 123. classy'\n",
    "print(re.findall(r'[m-q]', text2))\n",
    "print(len(re.findall(r'[m-q]', text2)))"
   ]
  },
  {
   "cell_type": "code",
   "execution_count": 84,
   "id": "f40b467a",
   "metadata": {},
   "outputs": [
    {
     "name": "stdout",
     "output_type": "stream",
     "text": [
      "['n', 'm', 'n', 'o', 'o', 'm', 'o', 'n', 'p', 'q']\n",
      "10\n"
     ]
    }
   ],
   "source": [
    "text2 = 'This is an 9ama-zing 5class_room, every one speaks ENGLISH 123 q. classy'\n",
    "print(re.findall(r'[m-q]', text2))\n",
    "print(len(re.findall(r'[m-q]', text2)))"
   ]
  },
  {
   "cell_type": "code",
   "execution_count": 83,
   "id": "6abc2afd",
   "metadata": {},
   "outputs": [
    {
     "name": "stdout",
     "output_type": "stream",
     "text": [
      "['T', 'h', 'i', 's', 'i', 's', 'a', 'n', 'a', 'm', 'a', 'z', 'i', 'n', 'g', 'c', 'l', 'a', 's', 's', 'r', 'o', 'o', 'm', 'e', 'v', 'e', 'r', 'y', 'o', 'n', 'e', 's', 'p', 'e', 'a', 'k', 's', 'E', 'N', 'G', 'L', 'I', 'S', 'H', 'c', 'l', 'a', 's', 's', 'y']\n",
      "51\n"
     ]
    }
   ],
   "source": [
    "text2 = 'This is an 9ama-zing 5class_room, every one speaks ENGLISH 123. classy'\n",
    "print(re.findall(r'[a-zA-Z]', text2))\n",
    "print(len(re.findall(r'[a-zA-Z]', text2)))"
   ]
  },
  {
   "cell_type": "markdown",
   "id": "9e73b225",
   "metadata": {},
   "source": [
    "# ."
   ]
  },
  {
   "cell_type": "code",
   "execution_count": 86,
   "id": "692d910d",
   "metadata": {},
   "outputs": [
    {
     "name": "stdout",
     "output_type": "stream",
     "text": [
      "['class', 'class', 'c  1s']\n",
      "3\n"
     ]
    }
   ],
   "source": [
    "text2 = 'This is an 9ama-zing 5class_room, every one speaks ENGLISH 123. classy  c  1s'\n",
    "print(re.findall(r'c...s', text2)) # return the word (the word classy in this example) if at the end\n",
    "print(len(re.findall(r'c...s', text2)))"
   ]
  },
  {
   "cell_type": "code",
   "execution_count": 87,
   "id": "50e5cc93",
   "metadata": {},
   "outputs": [
    {
     "name": "stdout",
     "output_type": "stream",
     "text": [
      "[]\n",
      "0\n"
     ]
    }
   ],
   "source": [
    "text2 = 'This is an 9ama-zing 5class_room, every one speaks ENGLISH 123. classy  c  1s'\n",
    "print(re.findall(r'c.s', text2)) # return the word (the word classy in this example) if at the end\n",
    "print(len(re.findall(r'c.s', text2)))"
   ]
  },
  {
   "cell_type": "code",
   "execution_count": 88,
   "id": "9afb96f9",
   "metadata": {},
   "outputs": [
    {
     "name": "stdout",
     "output_type": "stream",
     "text": [
      "['clas', 'clas']\n",
      "2\n"
     ]
    }
   ],
   "source": [
    "text2 = 'This is an 9ama-zing 5class_room, every one speaks ENGLISH 123. classy  c  1s'\n",
    "print(re.findall(r'c..s', text2)) # return the word (the word classy in this example) if at the end\n",
    "print(len(re.findall(r'c..s', text2)))"
   ]
  },
  {
   "cell_type": "markdown",
   "id": "17f5001f",
   "metadata": {},
   "source": [
    "# ^"
   ]
  },
  {
   "cell_type": "code",
   "execution_count": 92,
   "id": "bb6f7609",
   "metadata": {},
   "outputs": [
    {
     "name": "stdout",
     "output_type": "stream",
     "text": [
      "['Th']\n",
      "1\n"
     ]
    }
   ],
   "source": [
    "text2 = 'This is an 9ama-zing 5class_room, every one speaks ENGLISH 123. classy  The c  1s'\n",
    "print(re.findall(r'^Th', text2)) # Looks for the string\n",
    "print(len(re.findall(r'^Th', text2)))"
   ]
  },
  {
   "cell_type": "code",
   "execution_count": 93,
   "id": "e30d1b2d",
   "metadata": {},
   "outputs": [
    {
     "name": "stdout",
     "output_type": "stream",
     "text": [
      "[]\n",
      "0\n"
     ]
    }
   ],
   "source": [
    "text2 = 'Tis is an 9ama-zing 5class_room, every one speaks ENGLISH 123. classy  The c  1s'\n",
    "print(re.findall(r'^Th', text2)) # Looks for the string\n",
    "print(len(re.findall(r'^Th', text2)))"
   ]
  },
  {
   "cell_type": "markdown",
   "id": "9f66777a",
   "metadata": {},
   "source": [
    "# |"
   ]
  },
  {
   "cell_type": "code",
   "execution_count": 94,
   "id": "7956928b",
   "metadata": {},
   "outputs": [
    {
     "name": "stdout",
     "output_type": "stream",
     "text": [
      "['T']\n",
      "1\n"
     ]
    }
   ],
   "source": [
    "text2 = 'This is an 9ama-zing 5class_room, every one speaks ENGLISH 123. classy  The c  1s'\n",
    "print(re.findall(r'^A|^T', text2)) # Looks for the string\n",
    "print(len(re.findall(r'^A|^T', text2)))"
   ]
  },
  {
   "cell_type": "code",
   "execution_count": 95,
   "id": "27fed328",
   "metadata": {},
   "outputs": [
    {
     "name": "stdout",
     "output_type": "stream",
     "text": [
      "['A']\n",
      "1\n"
     ]
    }
   ],
   "source": [
    "text2 = 'Ahis is an 9ama-zing 5class_room, every one speaks ENGLISH 123. classy  The c  1s'\n",
    "print(re.findall(r'^A|^T', text2)) # Looks for the string\n",
    "print(len(re.findall(r'^A|^T', text2)))"
   ]
  },
  {
   "cell_type": "markdown",
   "id": "e9b9f4f0",
   "metadata": {},
   "source": [
    "# [+]"
   ]
  },
  {
   "cell_type": "code",
   "execution_count": 96,
   "id": "a37bac4d",
   "metadata": {},
   "outputs": [
    {
     "name": "stdout",
     "output_type": "stream",
     "text": [
      "['+', '+', '+']\n",
      "3\n"
     ]
    }
   ],
   "source": [
    "text2 = 'This is an 9ama-zing++ 5class_room, every one speaks ENGLISH 123. classy  The c +/ 1s'\n",
    "print(re.findall(r'[+]', text2)) # Looks for the string\n",
    "print(len(re.findall(r'[+]', text2)))"
   ]
  },
  {
   "cell_type": "markdown",
   "id": "7f92db2d",
   "metadata": {},
   "source": [
    "# +"
   ]
  },
  {
   "cell_type": "code",
   "execution_count": 99,
   "id": "298fbb8c",
   "metadata": {},
   "outputs": [
    {
     "name": "stdout",
     "output_type": "stream",
     "text": [
      "['T', 'T']\n",
      "2\n"
     ]
    }
   ],
   "source": [
    "text2 = 'This is an 9ama-zing 5class_room, every one speaks ENGLISH 123. classy  The c  1s'\n",
    "print(re.findall(r'T+', text2)) # Looks for the string\n",
    "print(len(re.findall(r'T+', text2)))"
   ]
  },
  {
   "cell_type": "code",
   "execution_count": 102,
   "id": "c7a17fd6",
   "metadata": {},
   "outputs": [
    {
     "name": "stdout",
     "output_type": "stream",
     "text": [
      "['A']\n",
      "1\n"
     ]
    }
   ],
   "source": [
    "text2 = 'Ahis is an 9ama-zing 5class_room, every one speaks ENGLISH 123. classy  The c  1s'\n",
    "print(re.findall(r'^[A-Z]', text2)) # Looks for the string\n",
    "print(len(re.findall(r'^[A-Z]', text2)))"
   ]
  },
  {
   "cell_type": "markdown",
   "id": "3dcec107",
   "metadata": {},
   "source": [
    "# Examples"
   ]
  },
  {
   "cell_type": "code",
   "execution_count": 104,
   "id": "7ce0a26a",
   "metadata": {},
   "outputs": [],
   "source": [
    "text = 'hello 12 hi 89. Howdy 34'"
   ]
  },
  {
   "cell_type": "code",
   "execution_count": 110,
   "id": "97ed5e01",
   "metadata": {},
   "outputs": [],
   "source": [
    "pattern = '\\d+'"
   ]
  },
  {
   "cell_type": "code",
   "execution_count": 111,
   "id": "b6e31df6",
   "metadata": {},
   "outputs": [
    {
     "data": {
      "text/plain": [
       "['12', '89', '34']"
      ]
     },
     "execution_count": 111,
     "metadata": {},
     "output_type": "execute_result"
    }
   ],
   "source": [
    "result = re.findall(pattern, text)\n",
    "result"
   ]
  },
  {
   "cell_type": "code",
   "execution_count": 112,
   "id": "ea79607f",
   "metadata": {},
   "outputs": [
    {
     "data": {
      "text/plain": [
       "['1', '2', '8', '9', '3', '4']"
      ]
     },
     "execution_count": 112,
     "metadata": {},
     "output_type": "execute_result"
    }
   ],
   "source": [
    "pattern = '\\d'\n",
    "result = re.findall(pattern, text)\n",
    "result"
   ]
  },
  {
   "cell_type": "code",
   "execution_count": 113,
   "id": "25d0e5a2",
   "metadata": {},
   "outputs": [],
   "source": [
    "text = 'abc 12 de 23 f45 6'"
   ]
  },
  {
   "cell_type": "code",
   "execution_count": 114,
   "id": "d9213ed7",
   "metadata": {},
   "outputs": [
    {
     "name": "stdout",
     "output_type": "stream",
     "text": [
      "abc12de23f456\n"
     ]
    }
   ],
   "source": [
    "pattern = '\\s+'\n",
    "replace = ''\n",
    "new_text = re.sub(pattern, replace, text)\n",
    "print(new_text)"
   ]
  },
  {
   "cell_type": "code",
   "execution_count": 115,
   "id": "1349b229",
   "metadata": {},
   "outputs": [],
   "source": [
    "text = '#UNSG @ NY Society for Ethical Culture bit.ly/2gyVelr @UN @UN_Women '"
   ]
  },
  {
   "cell_type": "code",
   "execution_count": 118,
   "id": "ef841cd5",
   "metadata": {},
   "outputs": [
    {
     "data": {
      "text/plain": [
       "['#UNSG',\n",
       " '@',\n",
       " 'NY',\n",
       " 'Society',\n",
       " 'for',\n",
       " 'Ethical',\n",
       " 'Culture',\n",
       " 'bit.ly/2gyVelr',\n",
       " '@UN',\n",
       " '@UN_Women']"
      ]
     },
     "execution_count": 118,
     "metadata": {},
     "output_type": "execute_result"
    }
   ],
   "source": [
    "tokens = text.split()\n",
    "tokens"
   ]
  },
  {
   "cell_type": "code",
   "execution_count": 122,
   "id": "d052e02e",
   "metadata": {},
   "outputs": [
    {
     "data": {
      "text/plain": [
       "['@UN', '@UN_Women']"
      ]
     },
     "execution_count": 122,
     "metadata": {},
     "output_type": "execute_result"
    }
   ],
   "source": [
    "[w for w in tokens if re.search(r'@[a-zA-Z]+', w)]"
   ]
  },
  {
   "cell_type": "markdown",
   "id": "ca18420e",
   "metadata": {},
   "source": [
    "# ?"
   ]
  },
  {
   "cell_type": "code",
   "execution_count": 123,
   "id": "91160288",
   "metadata": {},
   "outputs": [],
   "source": [
    "time_sentences = \"Monday: The doctor's appointment is at 2:45pm. Tuesday: The dentist's appointment is at 11:30 am\""
   ]
  },
  {
   "cell_type": "code",
   "execution_count": 124,
   "id": "b4243b50",
   "metadata": {},
   "outputs": [
    {
     "data": {
      "text/plain": [
       "[('2', '45'), ('11', '30')]"
      ]
     },
     "execution_count": 124,
     "metadata": {},
     "output_type": "execute_result"
    }
   ],
   "source": [
    "re.findall(r'(\\d?\\d):(\\d\\d)', time_sentences)"
   ]
  },
  {
   "cell_type": "code",
   "execution_count": 125,
   "id": "fa5dbd62",
   "metadata": {},
   "outputs": [],
   "source": [
    "# ? => A regular expression followed by a ? give zero or one "
   ]
  },
  {
   "cell_type": "code",
   "execution_count": 126,
   "id": "cff434bc",
   "metadata": {},
   "outputs": [],
   "source": [
    "text = '\\yes 1:30 no 12:30 maybe 1:5   test me 12:5'"
   ]
  },
  {
   "cell_type": "code",
   "execution_count": 128,
   "id": "f460a639",
   "metadata": {},
   "outputs": [
    {
     "name": "stdout",
     "output_type": "stream",
     "text": [
      "1 [('1', '30'), ('12', '30'), ('1', '5'), ('12', '5')]\n",
      "2 [('1', '30'), ('12', '30')]\n",
      "3 [('1', '30'), ('12', '30')]\n",
      "4 [('12', '30')]\n"
     ]
    }
   ],
   "source": [
    "print(1, re.findall(r'(\\d?\\d):(\\d?\\d)', text))\n",
    "print(2, re.findall(r'(\\d?\\d):(\\d\\d)', text))\n",
    "print(3, re.findall(r'(\\d?\\d):(\\d\\d)', text))\n",
    "print(4, re.findall(r'(\\d\\d):(\\d\\d)', text))"
   ]
  },
  {
   "cell_type": "markdown",
   "id": "e7d55970",
   "metadata": {},
   "source": [
    "# Bag of words"
   ]
  },
  {
   "cell_type": "code",
   "execution_count": 129,
   "id": "ba51df3a",
   "metadata": {},
   "outputs": [],
   "source": [
    "import numpy as np\n",
    "from sklearn.feature_extraction.text import CountVectorizer"
   ]
  },
  {
   "cell_type": "code",
   "execution_count": 136,
   "id": "ef93b35b",
   "metadata": {},
   "outputs": [],
   "source": [
    "text_data = np.array(['I love Brazil. Brazil!',\n",
    "                     'Sweden is best',\n",
    "                     'Germany beats both'])"
   ]
  },
  {
   "cell_type": "code",
   "execution_count": 137,
   "id": "fe43abae",
   "metadata": {},
   "outputs": [],
   "source": [
    "count = CountVectorizer()\n",
    "bag_of_words = count.fit_transform(text_data)"
   ]
  },
  {
   "cell_type": "code",
   "execution_count": 138,
   "id": "5b5722d6",
   "metadata": {},
   "outputs": [
    {
     "data": {
      "text/plain": [
       "<3x8 sparse matrix of type '<class 'numpy.int64'>'\n",
       "\twith 8 stored elements in Compressed Sparse Row format>"
      ]
     },
     "execution_count": 138,
     "metadata": {},
     "output_type": "execute_result"
    }
   ],
   "source": [
    "bag_of_words"
   ]
  },
  {
   "cell_type": "code",
   "execution_count": 139,
   "id": "6414d8bd",
   "metadata": {},
   "outputs": [
    {
     "data": {
      "text/plain": [
       "array([1, 2, 1, 1, 1, 1, 1, 1], dtype=int64)"
      ]
     },
     "execution_count": 139,
     "metadata": {},
     "output_type": "execute_result"
    }
   ],
   "source": [
    "bag_of_words.data"
   ]
  },
  {
   "cell_type": "code",
   "execution_count": 140,
   "id": "151fa45f",
   "metadata": {},
   "outputs": [
    {
     "name": "stderr",
     "output_type": "stream",
     "text": [
      "C:\\Users\\DELL\\AppData\\Roaming\\Python\\Python39\\site-packages\\sklearn\\utils\\deprecation.py:87: FutureWarning: Function get_feature_names is deprecated; get_feature_names is deprecated in 1.0 and will be removed in 1.2. Please use get_feature_names_out instead.\n",
      "  warnings.warn(msg, category=FutureWarning)\n"
     ]
    },
    {
     "data": {
      "text/plain": [
       "['beats', 'best', 'both', 'brazil', 'germany', 'is', 'love', 'sweden']"
      ]
     },
     "execution_count": 140,
     "metadata": {},
     "output_type": "execute_result"
    }
   ],
   "source": [
    "count.get_feature_names()"
   ]
  },
  {
   "cell_type": "code",
   "execution_count": 141,
   "id": "44863795",
   "metadata": {},
   "outputs": [
    {
     "data": {
      "text/plain": [
       "array([[0, 0, 0, 2, 0, 0, 1, 0],\n",
       "       [0, 1, 0, 0, 0, 1, 0, 1],\n",
       "       [1, 0, 1, 0, 1, 0, 0, 0]], dtype=int64)"
      ]
     },
     "execution_count": 141,
     "metadata": {},
     "output_type": "execute_result"
    }
   ],
   "source": [
    "bag_of_words.toarray()"
   ]
  },
  {
   "cell_type": "code",
   "execution_count": null,
   "id": "b805aab1",
   "metadata": {},
   "outputs": [],
   "source": []
  }
 ],
 "metadata": {
  "kernelspec": {
   "display_name": "Python 3 (ipykernel)",
   "language": "python",
   "name": "python3"
  },
  "language_info": {
   "codemirror_mode": {
    "name": "ipython",
    "version": 3
   },
   "file_extension": ".py",
   "mimetype": "text/x-python",
   "name": "python",
   "nbconvert_exporter": "python",
   "pygments_lexer": "ipython3",
   "version": "3.9.12"
  }
 },
 "nbformat": 4,
 "nbformat_minor": 5
}
